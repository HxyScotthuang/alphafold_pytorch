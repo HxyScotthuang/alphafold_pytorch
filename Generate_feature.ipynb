{
  "cells": [
    {
      "cell_type": "markdown",
      "metadata": {
        "id": "view-in-github",
        "colab_type": "text"
      },
      "source": [
        "<a href=\"https://colab.research.google.com/github/HxyScotthuang/alphafold_pytorch/blob/master/Generate_feature.ipynb\" target=\"_parent\"><img src=\"https://colab.research.google.com/assets/colab-badge.svg\" alt=\"Open In Colab\"/></a>"
      ]
    },
    {
      "cell_type": "markdown",
      "source": [
        "This is the script that is used to generate MSA feature, .pssm file, and corrosponding protein-related feature for training of a protein-folding problem. \n",
        "\n",
        "Input of the protein is an **.ent file** / **.pdb** file, e.g. T1019s2.pdb,\n",
        "stored in dir \n",
        "\n",
        "For each protein, we do the following generation:\n",
        " - \n",
        "\n"
      ],
      "metadata": {
        "id": "Z3KlATyyl7PI"
      }
    },
    {
      "cell_type": "markdown",
      "source": [
        "# Set up the enviroment"
      ],
      "metadata": {
        "id": "0V9UedEgXHQT"
      }
    },
    {
      "cell_type": "code",
      "execution_count": 17,
      "metadata": {
        "colab": {
          "base_uri": "https://localhost:8080/"
        },
        "id": "IsfvuWgj6DmB",
        "outputId": "ef43cd77-aa4d-435a-b795-4f2682b620e6"
      },
      "outputs": [
        {
          "output_type": "stream",
          "name": "stdout",
          "text": [
            "Drive already mounted at /content/drive; to attempt to forcibly remount, call drive.mount(\"/content/drive\", force_remount=True).\n"
          ]
        }
      ],
      "source": [
        "from google.colab import drive\n",
        "drive.mount('/content/drive')"
      ]
    },
    {
      "cell_type": "code",
      "execution_count": 18,
      "metadata": {
        "id": "u0iX1xwd50gq",
        "colab": {
          "base_uri": "https://localhost:8080/",
          "height": 53
        },
        "outputId": "83f4d211-685a-413c-ed0a-b1b1fe847b0f"
      },
      "outputs": [
        {
          "output_type": "execute_result",
          "data": {
            "text/plain": [
              "'\\nimport os\\n#PATH = \"/content/drive/MyDrive/Colab Notebooks/alphafold_pytorch/alphafold_pytorch-29bd20b0ca0ccd31d984a7dc53f0302d945a2ddc/Feature_generation\"\\nPATH = \"/content/drive/MyDrive/Colab Notebook/alphafold_pytorch-29bd20b0ca0ccd31d984a7dc53f0302d945a2ddc/Feature_generation/\"\\nos.chdir(PATH)\\n'"
            ],
            "application/vnd.google.colaboratory.intrinsic+json": {
              "type": "string"
            }
          },
          "metadata": {},
          "execution_count": 18
        }
      ],
      "source": [
        "'''\n",
        "import os\n",
        "#PATH = \"/content/drive/MyDrive/Colab Notebooks/alphafold_pytorch/alphafold_pytorch-29bd20b0ca0ccd31d984a7dc53f0302d945a2ddc/Feature_generation\"\n",
        "PATH = \"/content/drive/MyDrive/Colab Notebook/alphafold_pytorch-29bd20b0ca0ccd31d984a7dc53f0302d945a2ddc/Feature_generation/\"\n",
        "os.chdir(PATH)\n",
        "'''"
      ]
    },
    {
      "cell_type": "code",
      "execution_count": 19,
      "metadata": {
        "id": "2MKM5pCB6JCh",
        "colab": {
          "base_uri": "https://localhost:8080/",
          "height": 71
        },
        "outputId": "4bce28ed-64c3-45ab-9b3b-ce0f065b2e69"
      },
      "outputs": [
        {
          "output_type": "execute_result",
          "data": {
            "text/plain": [
              "'\\n!git clone https://github.com/soedinglab/hh-suite.git\\n!mkdir -p hh-suite/build && cd hh-suite/build\\n!cmake -DCMAKE_INSTALL_PREFIX=. ..\\n!make -j 4 && make install\\n!export PATH=\"$(pwd)/bin:$(pwd)/scripts:$PATH\"\\n\\n# Download Databases\\n!wget --no-check-certificate http://wwwuser.gwdg.de/~compbiol/uniclust/2018_08/uniclust30_2018_08_hhsuite.tar.gz \\n\\n'"
            ],
            "application/vnd.google.colaboratory.intrinsic+json": {
              "type": "string"
            }
          },
          "metadata": {},
          "execution_count": 19
        }
      ],
      "source": [
        "'''\n",
        "!git clone https://github.com/soedinglab/hh-suite.git\n",
        "!mkdir -p hh-suite/build && cd hh-suite/build\n",
        "!cmake -DCMAKE_INSTALL_PREFIX=. ..\n",
        "!make -j 4 && make install\n",
        "!export PATH=\"$(pwd)/bin:$(pwd)/scripts:$PATH\"\n",
        "\n",
        "# Download Databases\n",
        "!wget --no-check-certificate http://wwwuser.gwdg.de/~compbiol/uniclust/2018_08/uniclust30_2018_08_hhsuite.tar.gz \n",
        "\n",
        "'''"
      ]
    },
    {
      "cell_type": "code",
      "execution_count": 20,
      "metadata": {
        "id": "j_zR6-ZxxLyS"
      },
      "outputs": [],
      "source": [
        "# Unzip the databases for MSA: this requires a lot of space about 70G.\n",
        "# WARNING： if the hhblits stops prematurely with no output, it is possibly because the unzip process of databases has gone wrong, and hhblits will stop without throwing any error.\n",
        "# To solve this, delete the old databases file and unzip again, with enough memory. \n",
        "\n",
        "#%cd \"/content/drive/MyDrive/Colab Notebooks/alphafold_pytorch/alphafold_pytorch-29bd20b0ca0ccd31d984a7dc53f0302d945a2ddc/Feature_generation\"\n",
        "#!tar xzvf uniclust30_2018_08_hhsuite.tar.gz"
      ]
    },
    {
      "cell_type": "code",
      "execution_count": 21,
      "metadata": {
        "colab": {
          "base_uri": "https://localhost:8080/",
          "height": 89
        },
        "id": "s3lO8dlR8IIV",
        "outputId": "d6695061-100e-49c5-a4da-a6aed96786ef"
      },
      "outputs": [
        {
          "output_type": "execute_result",
          "data": {
            "text/plain": [
              "'\\n%cd /content/drive/MyDrive/Colab Notebooks/alphafold_pytorch/alphafold_pytorch-29bd20b0ca0ccd31d984a7dc53f0302d945a2ddc/Feature_generation\\n!git clone https://github.com/magnusekeberg/plmDCA.git\\n%mv plmDCA/plmDCA_asymmetric_v2 plmDCA/plmDCA\\n%cp ../plmDCA.m plmDCA/plmDCA_asymmetric_v2/\\n\\n!apt-get install octave\\n!apt-get install liboctave-dev\\n# mex .c file, if you use matlab you need do this in matlab console\\n%cd plmDCA/plmDCA_asymmetric_v2/functions/\\n!for i in *.c; do octave --eval \"mex $i\";done\\n%cd ../3rd_party_code/minFunc/ \\n!for i in *.c; do octave --eval \"mex $i\"; done\\n'"
            ],
            "application/vnd.google.colaboratory.intrinsic+json": {
              "type": "string"
            }
          },
          "metadata": {},
          "execution_count": 21
        }
      ],
      "source": [
        "# Set-up plmDCA file\n",
        "'''\n",
        "%cd /content/drive/MyDrive/Colab Notebooks/alphafold_pytorch/alphafold_pytorch-29bd20b0ca0ccd31d984a7dc53f0302d945a2ddc/Feature_generation\n",
        "!git clone https://github.com/magnusekeberg/plmDCA.git\n",
        "%mv plmDCA/plmDCA_asymmetric_v2 plmDCA/plmDCA\n",
        "%cp ../plmDCA.m plmDCA/plmDCA_asymmetric_v2/\n",
        "\n",
        "!apt-get install octave\n",
        "!apt-get install liboctave-dev\n",
        "# mex .c file, if you use matlab you need do this in matlab console\n",
        "%cd plmDCA/plmDCA_asymmetric_v2/functions/\n",
        "!for i in *.c; do octave --eval \"mex $i\";done\n",
        "%cd ../3rd_party_code/minFunc/ \n",
        "!for i in *.c; do octave --eval \"mex $i\"; done\n",
        "'''"
      ]
    },
    {
      "cell_type": "markdown",
      "source": [
        "Set up pdbfixer for fixing missing file"
      ],
      "metadata": {
        "id": "J1rnCKarXm-x"
      }
    },
    {
      "cell_type": "code",
      "source": [
        "# Consider using pdbfixer! \n",
        "'''\n",
        "!pip install condacolab\n",
        "import condacolab\n",
        "condacolab.install()\n",
        "'''\n",
        "#!conda install -c conda-forge pdbfixer \n",
        "#!conda install -c conda-forge openmm"
      ],
      "metadata": {
        "colab": {
          "base_uri": "https://localhost:8080/",
          "height": 35
        },
        "id": "qdRqdy07XmAF",
        "outputId": "83a69bc1-1369-4c11-d9dc-009e8cf87390"
      },
      "execution_count": 22,
      "outputs": [
        {
          "output_type": "execute_result",
          "data": {
            "text/plain": [
              "'\\n!pip install condacolab\\nimport condacolab\\ncondacolab.install()\\n'"
            ],
            "application/vnd.google.colaboratory.intrinsic+json": {
              "type": "string"
            }
          },
          "metadata": {},
          "execution_count": 22
        }
      ]
    },
    {
      "cell_type": "markdown",
      "source": [
        "# Generating individual feature"
      ],
      "metadata": {
        "id": "NPKbJfDIXNkl"
      }
    },
    {
      "cell_type": "code",
      "execution_count": 23,
      "metadata": {
        "id": "_DOyBM_KNkhD"
      },
      "outputs": [],
      "source": [
        "#%cd \"/content/drive/MyDrive/Colab Notebooks/alphafold_pytorch/alphafold_pytorch-29bd20b0ca0ccd31d984a7dc53f0302d945a2ddc\"\n"
      ]
    },
    {
      "cell_type": "code",
      "execution_count": 24,
      "metadata": {
        "id": "Fa9R26I0gFM8",
        "colab": {
          "base_uri": "https://localhost:8080/",
          "height": 53
        },
        "outputId": "992758f2-4740-4202-fbee-246fb88c2599"
      },
      "outputs": [
        {
          "output_type": "execute_result",
          "data": {
            "text/plain": [
              "'\\nTARGET=\"T1019s2\"\\nTARGET_DIR=\"test_data\"\\nTARGET_SEQ= f\"{TARGET_DIR}/{TARGET}.seq\" # fasta format\\nPLMDCA_DIR=\"Feature_generation/plmDCA/plmDCA_asymmetric_v2/\"\\n'"
            ],
            "application/vnd.google.colaboratory.intrinsic+json": {
              "type": "string"
            }
          },
          "metadata": {},
          "execution_count": 24
        }
      ],
      "source": [
        "# Set up the test target\n",
        "'''\n",
        "TARGET=\"T1019s2\"\n",
        "TARGET_DIR=\"test_data\"\n",
        "TARGET_SEQ= f\"{TARGET_DIR}/{TARGET}.seq\" # fasta format\n",
        "PLMDCA_DIR=\"Feature_generation/plmDCA/plmDCA_asymmetric_v2/\"\n",
        "'''"
      ]
    },
    {
      "cell_type": "code",
      "execution_count": 25,
      "metadata": {
        "id": "rl6BgwkwQMDt"
      },
      "outputs": [],
      "source": [
        "# generate domain crops from target seq\n",
        "#!python3 feature.py -s $TARGET_SEQ -c\n"
      ]
    },
    {
      "cell_type": "code",
      "execution_count": 26,
      "metadata": {
        "colab": {
          "base_uri": "https://localhost:8080/",
          "height": 35
        },
        "id": "4T9-peyqPr4b",
        "outputId": "e47c0414-3368-432f-fd03-1209e2fbbde0"
      },
      "outputs": [
        {
          "output_type": "execute_result",
          "data": {
            "text/plain": [
              "'\\n!pip install -q condacolab\\nimport condacolab\\ncondacolab.install()\\n!conda install -c conda-forge -c bioconda hhsuite \\n'"
            ],
            "application/vnd.google.colaboratory.intrinsic+json": {
              "type": "string"
            }
          },
          "metadata": {},
          "execution_count": 26
        }
      ],
      "source": [
        "'''\n",
        "!pip install -q condacolab\n",
        "import condacolab\n",
        "condacolab.install()\n",
        "!conda install -c conda-forge -c bioconda hhsuite \n",
        "'''"
      ]
    },
    {
      "cell_type": "code",
      "execution_count": 27,
      "metadata": {
        "id": "gkgMQ9h6VzYk"
      },
      "outputs": [],
      "source": [
        "#!apt-get install ncbi-blast+"
      ]
    },
    {
      "cell_type": "code",
      "execution_count": 28,
      "metadata": {
        "colab": {
          "base_uri": "https://localhost:8080/",
          "height": 89
        },
        "id": "v9ckxzVWSa6Q",
        "outputId": "c1eb4d72-e5de-46b0-c7d5-ceb4c14eb17c"
      },
      "outputs": [
        {
          "output_type": "execute_result",
          "data": {
            "text/plain": [
              "'\\n# Generate MSA file for all the seq. under\\nimport glob\\n%cd \"/content/drive/MyDrive/Colab Notebooks/alphafold_pytorch/alphafold_pytorch-29bd20b0ca0ccd31d984a7dc53f0302d945a2ddc/test_data\"\\nfor file in glob.glob(\"*.seq\"):\\n  out = file[:-4]\\n  print(f\"Generate MSA files for {out}.seq\")\\n  !hhblits -i {out}.seq -d ../Feature_generation/uniclust30_2018_08/uniclust30_2018_08 -oa3m {out}.a3m -ohhm {out}.hhm -n 3 \\n  !perl ../Feature_generation/hh-suite/scripts/reformat.pl {out}.a3m {out}.fas\\n  !psiblast -subject {out}.seq -in_msa {out}.fas -out_ascii_pssm {out}.pssm;\\n  '"
            ],
            "application/vnd.google.colaboratory.intrinsic+json": {
              "type": "string"
            }
          },
          "metadata": {},
          "execution_count": 28
        }
      ],
      "source": [
        "'''\n",
        "# Generate MSA file for all the seq. under\n",
        "import glob\n",
        "%cd \"/content/drive/MyDrive/Colab Notebooks/alphafold_pytorch/alphafold_pytorch-29bd20b0ca0ccd31d984a7dc53f0302d945a2ddc/test_data\"\n",
        "for file in glob.glob(\"*.seq\"):\n",
        "  out = file[:-4]\n",
        "  print(f\"Generate MSA files for {out}.seq\")\n",
        "  !hhblits -i {out}.seq -d ../Feature_generation/uniclust30_2018_08/uniclust30_2018_08 -oa3m {out}.a3m -ohhm {out}.hhm -n 3 \n",
        "  !perl ../Feature_generation/hh-suite/scripts/reformat.pl {out}.a3m {out}.fas\n",
        "  !psiblast -subject {out}.seq -in_msa {out}.fas -out_ascii_pssm {out}.pssm;\n",
        "  '''"
      ]
    },
    {
      "cell_type": "code",
      "execution_count": 29,
      "metadata": {
        "id": "RorRJWHCfbwG",
        "colab": {
          "base_uri": "https://localhost:8080/",
          "height": 35
        },
        "outputId": "17921b39-69fa-4e7c-cbcb-8af387dc992c"
      },
      "outputs": [
        {
          "output_type": "execute_result",
          "data": {
            "text/plain": [
              "'\\n!pip install torch\\n!pip install numpy\\n!pip install scipy\\n'"
            ],
            "application/vnd.google.colaboratory.intrinsic+json": {
              "type": "string"
            }
          },
          "metadata": {},
          "execution_count": 29
        }
      ],
      "source": [
        "'''\n",
        "!pip install torch\n",
        "!pip install numpy\n",
        "!pip install scipy\n",
        "'''"
      ]
    },
    {
      "cell_type": "code",
      "execution_count": 30,
      "metadata": {
        "id": "adX2vPkzeVAF"
      },
      "outputs": [],
      "source": [
        "# make target features data and generate ungap target aln file for plmDCA\n",
        "#%cd /content/drive/MyDrive/Colab Notebooks/alphafold_pytorch/alphafold_pytorch-29bd20b0ca0ccd31d984a7dc53f0302d945a2ddc\n",
        "#!python3 feature.py -s {TARGET_SEQ} -f\n"
      ]
    },
    {
      "cell_type": "code",
      "execution_count": 31,
      "metadata": {
        "colab": {
          "base_uri": "https://localhost:8080/",
          "height": 71
        },
        "id": "XErrFRBjSgjI",
        "outputId": "b43d62c4-692b-40bc-ab71-0344050cfea5"
      },
      "outputs": [
        {
          "output_type": "execute_result",
          "data": {
            "text/plain": [
              "'\\n%cd ./test_data\\nfor aln in glob.glob(\"*.aln\"):\\n  out = file[:-4]\\n  print(f\"calculate plmDCA for {aln}\")\\n  !octave \"/content/drive/MyDrive/Colab Notebooks/alphafold_pytorch/alphafold_pytorch-29bd20b0ca0ccd31d984a7dc53f0302d945a2ddc/Feature_generation/plmDCA/plmDCA_asymmetric_v2/plmDCA_asymmetric.m\" {aln}\\n\\n'"
            ],
            "application/vnd.google.colaboratory.intrinsic+json": {
              "type": "string"
            }
          },
          "metadata": {},
          "execution_count": 31
        }
      ],
      "source": [
        "# Calculate plmDCA file to generate the alignment\n",
        "'''\n",
        "%cd ./test_data\n",
        "for aln in glob.glob(\"*.aln\"):\n",
        "  out = file[:-4]\n",
        "  print(f\"calculate plmDCA for {aln}\")\n",
        "  !octave \"/content/drive/MyDrive/Colab Notebooks/alphafold_pytorch/alphafold_pytorch-29bd20b0ca0ccd31d984a7dc53f0302d945a2ddc/Feature_generation/plmDCA/plmDCA_asymmetric_v2/plmDCA_asymmetric.m\" {aln}\n",
        "\n",
        "'''"
      ]
    },
    {
      "cell_type": "code",
      "execution_count": 32,
      "metadata": {
        "id": "YhP2JVXjTNAB"
      },
      "outputs": [],
      "source": [
        "#%cd ../\n",
        "# run again to update target features data\n",
        "#!python3 feature.py -s $TARGET_SEQ -f"
      ]
    },
    {
      "cell_type": "code",
      "execution_count": 33,
      "metadata": {
        "colab": {
          "base_uri": "https://localhost:8080/",
          "height": 53
        },
        "id": "QE9DFlSRMIjs",
        "outputId": "8b050a5d-1787-4072-9aa9-2374de121f42"
      },
      "outputs": [
        {
          "output_type": "execute_result",
          "data": {
            "text/plain": [
              "'\\n# Check the dimension of the feature output\\nimport numpy as np\\ndataset = np.load(\"./test_data/T1019s2.npy\",allow_pickle = True)\\nitem = dataset[0]\\nfor key in item.keys():\\n  print(key, np.shape(item[key]))\\n  '"
            ],
            "application/vnd.google.colaboratory.intrinsic+json": {
              "type": "string"
            }
          },
          "metadata": {},
          "execution_count": 33
        }
      ],
      "source": [
        "'''\n",
        "# Check the dimension of the feature output\n",
        "import numpy as np\n",
        "dataset = np.load(\"./test_data/T1019s2.npy\",allow_pickle = True)\n",
        "item = dataset[0]\n",
        "for key in item.keys():\n",
        "  print(key, np.shape(item[key]))\n",
        "  '''"
      ]
    },
    {
      "cell_type": "markdown",
      "source": [
        "There might be the case where the PDB file has missing atom. We called **pdbfixer**, which can automatically fill the missing residue as well"
      ],
      "metadata": {
        "id": "dsroFjncWjj-"
      }
    },
    {
      "cell_type": "code",
      "source": [
        "'''\n",
        "PATH = \"/content/drive/MyDrive/Colab Notebooks/alphafold_pytorch/alphafold_pytorch-29bd20b0ca0ccd31d984a7dc53f0302d945a2ddc/ProteinPDB/AlphaProtein/\"\n",
        "pdbfile = \"pdb6sii.ent\"\n",
        "outfile = \"pdb6sii.ent\"\n",
        "target = pdbfile[:-3]\n",
        "'''"
      ],
      "metadata": {
        "colab": {
          "base_uri": "https://localhost:8080/",
          "height": 53
        },
        "id": "laBkcNfjWknC",
        "outputId": "9d9bce0e-d1b3-4fb5-b508-5ded65b56108"
      },
      "execution_count": 34,
      "outputs": [
        {
          "output_type": "execute_result",
          "data": {
            "text/plain": [
              "'\\nPATH = \"/content/drive/MyDrive/Colab Notebooks/alphafold_pytorch/alphafold_pytorch-29bd20b0ca0ccd31d984a7dc53f0302d945a2ddc/ProteinPDB/AlphaProtein/\"\\npdbfile = \"pdb6sii.ent\"\\noutfile = \"pdb6sii.ent\"\\ntarget = pdbfile[:-3]\\n'"
            ],
            "application/vnd.google.colaboratory.intrinsic+json": {
              "type": "string"
            }
          },
          "metadata": {},
          "execution_count": 34
        }
      ]
    },
    {
      "cell_type": "code",
      "source": [
        "# Consider using pdbfixer! \n",
        "'''\n",
        "!pip install condacolab\n",
        "import condacolab\n",
        "condacolab.install()\n",
        "\n",
        "!conda install -c conda-forge pdbfixer \n",
        "!conda install -c conda-forge openmm\n",
        "\n",
        "\n",
        "%cd {PATH}\n",
        "!pdbfixer {pdbfile} --add-residues --output={outfile} \n",
        "'''"
      ],
      "metadata": {
        "colab": {
          "base_uri": "https://localhost:8080/",
          "height": 53
        },
        "id": "vQk64JRzWmlV",
        "outputId": "e9fe9da2-2099-4420-bc55-084b2babfc05"
      },
      "execution_count": 35,
      "outputs": [
        {
          "output_type": "execute_result",
          "data": {
            "text/plain": [
              "'\\n!pip install condacolab\\nimport condacolab\\ncondacolab.install()\\n\\n!conda install -c conda-forge pdbfixer \\n!conda install -c conda-forge openmm\\n\\n\\n%cd {PATH}\\n!pdbfixer {pdbfile} --add-residues --output={outfile} \\n'"
            ],
            "application/vnd.google.colaboratory.intrinsic+json": {
              "type": "string"
            }
          },
          "metadata": {},
          "execution_count": 35
        }
      ]
    },
    {
      "cell_type": "markdown",
      "source": [
        "# Batch-geneneration as a function"
      ],
      "metadata": {
        "id": "ids4H04lXSPs"
      }
    },
    {
      "cell_type": "markdown",
      "metadata": {
        "id": "zsfBViXzgZpy"
      },
      "source": [
        "Now we summarise the above and generate the following function:"
      ]
    },
    {
      "cell_type": "code",
      "execution_count": 36,
      "metadata": {
        "colab": {
          "base_uri": "https://localhost:8080/"
        },
        "id": "f_2JuDlHC6to",
        "outputId": "78d9239b-ae9c-43c3-8e8d-85e997c45cbd"
      },
      "outputs": [
        {
          "output_type": "stream",
          "name": "stdout",
          "text": [
            "Drive already mounted at /content/drive; to attempt to forcibly remount, call drive.mount(\"/content/drive\", force_remount=True).\n"
          ]
        }
      ],
      "source": [
        "from google.colab import drive\n",
        "drive.mount('/content/drive')"
      ]
    },
    {
      "cell_type": "code",
      "execution_count": 37,
      "metadata": {
        "id": "HwJeoV-Irh6R"
      },
      "outputs": [],
      "source": [
        "import os\n",
        "PATH = \"/content/drive/MyDrive/Colab Notebooks/alphafold_pytorch/alphafold_pytorch-29bd20b0ca0ccd31d984a7dc53f0302d945a2ddc/Feature_generation\"\n",
        "#os.chdir(\"/content/drive/MyDrive/Colab Notebook/alphafold_pytorch-29bd20b0ca0ccd31d984a7dc53f0302d945a2ddc/Feature_generation/\")\n",
        "os.chdir(PATH)"
      ]
    },
    {
      "cell_type": "code",
      "execution_count": 38,
      "metadata": {
        "colab": {
          "base_uri": "https://localhost:8080/"
        },
        "id": "kyfmz7T3gXvQ",
        "outputId": "ec0f6683-b21e-4f35-e4d8-f5179caff5fa"
      },
      "outputs": [
        {
          "output_type": "stream",
          "name": "stdout",
          "text": [
            "Looking in indexes: https://pypi.org/simple, https://us-python.pkg.dev/colab-wheels/public/simple/\n",
            "Collecting torch\n",
            "  Downloading torch-1.12.1-cp37-cp37m-manylinux1_x86_64.whl (776.3 MB)\n",
            "\u001b[K     |████████████████████████████████| 776.3 MB 10 kB/s \n",
            "\u001b[?25hCollecting typing-extensions\n",
            "  Downloading typing_extensions-4.3.0-py3-none-any.whl (25 kB)\n",
            "Installing collected packages: typing-extensions, torch\n",
            "Successfully installed torch-1.12.1 typing-extensions-4.3.0\n",
            "Looking in indexes: https://pypi.org/simple, https://us-python.pkg.dev/colab-wheels/public/simple/\n",
            "Collecting scipy\n",
            "  Downloading scipy-1.7.3-cp37-cp37m-manylinux_2_12_x86_64.manylinux2010_x86_64.whl (38.1 MB)\n",
            "\u001b[K     |████████████████████████████████| 38.1 MB 57 kB/s \n",
            "\u001b[?25hRequirement already satisfied: numpy<1.23.0,>=1.16.5 in /usr/local/lib/python3.7/site-packages (from scipy) (1.20.3)\n",
            "Installing collected packages: scipy\n",
            "Successfully installed scipy-1.7.3\n",
            "Reading package lists... Done\n",
            "Building dependency tree       \n",
            "Reading state information... Done\n",
            "The following package was automatically installed and is no longer required:\n",
            "  libnvidia-common-460\n",
            "Use 'apt autoremove' to remove it.\n",
            "The following additional packages will be installed:\n",
            "  aglfn epstool fonts-droid-fallback fonts-noto-mono ghostscript gnuplot-data\n",
            "  gnuplot-qt gsfonts imagemagick-6-common info install-info libamd2\n",
            "  libauthen-sasl-perl libcamd2 libccolamd2 libcholmod3 libcolamd2\n",
            "  libcupsfilters1 libcupsimage2 libcxsparse3 libdata-dump-perl libemf1\n",
            "  libencode-locale-perl libfftw3-single3 libfile-listing-perl libfltk-gl1.3\n",
            "  libfltk1.3 libfont-afm-perl libgail-common libgail18 libglpk40\n",
            "  libgraphicsmagick++-q16-12 libgraphicsmagick-q16-3 libgs9 libgs9-common\n",
            "  libgtk2.0-0 libgtk2.0-bin libgtk2.0-common libhtml-form-perl\n",
            "  libhtml-format-perl libhtml-parser-perl libhtml-tagset-perl\n",
            "  libhtml-tree-perl libhttp-cookies-perl libhttp-daemon-perl libhttp-date-perl\n",
            "  libhttp-message-perl libhttp-negotiate-perl libijs-0.35 libio-html-perl\n",
            "  libio-socket-ssl-perl libjbig2dec0 liblqr-1-0 liblua5.3-0\n",
            "  liblwp-mediatypes-perl liblwp-protocol-https-perl libmagick++-6.q16-7\n",
            "  libmagickcore-6.q16-3 libmagickwand-6.q16-3 libmailtools-perl libmetis5\n",
            "  libnet-http-perl libnet-smtp-ssl-perl libnet-ssleay-perl libnotify4\n",
            "  liboctave4 libosmesa6 libplot2c2 libportaudio2 libpstoedit0c2a libqrupdate1\n",
            "  libqscintilla2-qt5-13 libqscintilla2-qt5-l10n libqt5opengl5 libqt5svg5\n",
            "  libsuitesparseconfig5 libtext-unidecode-perl libtimedate-perl\n",
            "  libtry-tiny-perl libumfpack5 liburi-perl libwmf0.2-7 libwww-perl\n",
            "  libwww-robotrules-perl libwxbase3.0-0v5 libwxgtk3.0-0v5 libxml-libxml-perl\n",
            "  libxml-namespacesupport-perl libxml-parser-perl libxml-sax-base-perl\n",
            "  libxml-sax-expat-perl libxml-sax-perl libzip4 netbase notification-daemon\n",
            "  octave-common octave-doc perl-openssl-defaults poppler-data pstoedit\n",
            "  tex-common texinfo\n",
            "Suggested packages:\n",
            "  fonts-noto ghostscript-x gnuplot-doc texinfo-doc-nonfree libdigest-hmac-perl\n",
            "  libgssapi-perl libfftw3-bin libfftw3-dev libiodbc2-dev graphicsmagick-dbg\n",
            "  gvfs libcrypt-ssleay-perl libmagickcore-6.q16-3-extra libqscintilla2-doc\n",
            "  libwmf0.2-7-gtk libauthen-ntlm-perl liboctave-dev www-browser | pdf-viewer\n",
            "  poppler-utils fonts-japanese-mincho | fonts-ipafont-mincho\n",
            "  fonts-japanese-gothic | fonts-ipafont-gothic fonts-arphic-ukai\n",
            "  fonts-arphic-uming fonts-nanum xfig | ivtools-bin | tgif | transfig\n",
            "  debhelper texlive-base texlive-latex-base texlive-generic-recommended\n",
            "  texlive-fonts-recommended\n",
            "The following NEW packages will be installed:\n",
            "  aglfn epstool fonts-droid-fallback fonts-noto-mono ghostscript gnuplot-data\n",
            "  gnuplot-qt gsfonts imagemagick-6-common info install-info libamd2\n",
            "  libauthen-sasl-perl libcamd2 libccolamd2 libcholmod3 libcolamd2\n",
            "  libcupsfilters1 libcupsimage2 libcxsparse3 libdata-dump-perl libemf1\n",
            "  libencode-locale-perl libfftw3-single3 libfile-listing-perl libfltk-gl1.3\n",
            "  libfltk1.3 libfont-afm-perl libgail-common libgail18 libglpk40\n",
            "  libgraphicsmagick++-q16-12 libgraphicsmagick-q16-3 libgs9 libgs9-common\n",
            "  libgtk2.0-0 libgtk2.0-bin libgtk2.0-common libhtml-form-perl\n",
            "  libhtml-format-perl libhtml-parser-perl libhtml-tagset-perl\n",
            "  libhtml-tree-perl libhttp-cookies-perl libhttp-daemon-perl libhttp-date-perl\n",
            "  libhttp-message-perl libhttp-negotiate-perl libijs-0.35 libio-html-perl\n",
            "  libio-socket-ssl-perl libjbig2dec0 liblqr-1-0 liblua5.3-0\n",
            "  liblwp-mediatypes-perl liblwp-protocol-https-perl libmagick++-6.q16-7\n",
            "  libmagickcore-6.q16-3 libmagickwand-6.q16-3 libmailtools-perl libmetis5\n",
            "  libnet-http-perl libnet-smtp-ssl-perl libnet-ssleay-perl libnotify4\n",
            "  liboctave4 libosmesa6 libplot2c2 libportaudio2 libpstoedit0c2a libqrupdate1\n",
            "  libqscintilla2-qt5-13 libqscintilla2-qt5-l10n libqt5opengl5 libqt5svg5\n",
            "  libsuitesparseconfig5 libtext-unidecode-perl libtimedate-perl\n",
            "  libtry-tiny-perl libumfpack5 liburi-perl libwmf0.2-7 libwww-perl\n",
            "  libwww-robotrules-perl libwxbase3.0-0v5 libwxgtk3.0-0v5 libxml-libxml-perl\n",
            "  libxml-namespacesupport-perl libxml-parser-perl libxml-sax-base-perl\n",
            "  libxml-sax-expat-perl libxml-sax-perl libzip4 netbase notification-daemon\n",
            "  octave octave-common octave-doc perl-openssl-defaults poppler-data pstoedit\n",
            "  tex-common texinfo\n",
            "0 upgraded, 103 newly installed, 0 to remove and 20 not upgraded.\n",
            "Need to get 53.6 MB of archives.\n",
            "After this operation, 210 MB of additional disk space will be used.\n",
            "Get:1 http://archive.ubuntu.com/ubuntu bionic/main amd64 install-info amd64 6.5.0.dfsg.1-2 [55.4 kB]\n",
            "Get:2 http://archive.ubuntu.com/ubuntu bionic/main amd64 fonts-droid-fallback all 1:6.0.1r16-1.1 [1,805 kB]\n",
            "Get:3 http://archive.ubuntu.com/ubuntu bionic/main amd64 liblqr-1-0 amd64 0.4.2-2.1 [27.7 kB]\n",
            "Get:4 http://archive.ubuntu.com/ubuntu bionic-updates/main amd64 imagemagick-6-common all 8:6.9.7.4+dfsg-16ubuntu6.13 [60.3 kB]\n",
            "Get:5 http://archive.ubuntu.com/ubuntu bionic-updates/main amd64 libmagickcore-6.q16-3 amd64 8:6.9.7.4+dfsg-16ubuntu6.13 [1,620 kB]\n",
            "Get:6 http://archive.ubuntu.com/ubuntu bionic-updates/main amd64 libmagickwand-6.q16-3 amd64 8:6.9.7.4+dfsg-16ubuntu6.13 [292 kB]\n",
            "Get:7 http://archive.ubuntu.com/ubuntu bionic-updates/main amd64 libqt5svg5 amd64 5.9.5-0ubuntu1.1 [129 kB]\n",
            "Get:8 http://archive.ubuntu.com/ubuntu bionic/main amd64 poppler-data all 0.4.8-2 [1,479 kB]\n",
            "Get:9 http://archive.ubuntu.com/ubuntu bionic/main amd64 tex-common all 6.09 [33.0 kB]\n",
            "Get:10 http://archive.ubuntu.com/ubuntu bionic/main amd64 netbase all 5.4 [12.7 kB]\n",
            "Get:11 http://archive.ubuntu.com/ubuntu bionic/main amd64 info amd64 6.5.0.dfsg.1-2 [104 kB]\n",
            "Get:12 http://archive.ubuntu.com/ubuntu bionic-updates/main amd64 libcupsimage2 amd64 2.2.7-1ubuntu2.9 [18.6 kB]\n",
            "Get:13 http://archive.ubuntu.com/ubuntu bionic/main amd64 libijs-0.35 amd64 0.35-13 [15.5 kB]\n",
            "Get:14 http://archive.ubuntu.com/ubuntu bionic/main amd64 libjbig2dec0 amd64 0.13-6 [55.9 kB]\n",
            "Get:15 http://archive.ubuntu.com/ubuntu bionic-updates/main amd64 libgs9-common all 9.26~dfsg+0-0ubuntu0.18.04.16 [5,093 kB]\n",
            "Get:16 http://archive.ubuntu.com/ubuntu bionic-updates/main amd64 libgs9 amd64 9.26~dfsg+0-0ubuntu0.18.04.16 [2,265 kB]\n",
            "Get:17 http://archive.ubuntu.com/ubuntu bionic-updates/main amd64 ghostscript amd64 9.26~dfsg+0-0ubuntu0.18.04.16 [51.3 kB]\n",
            "Get:18 http://archive.ubuntu.com/ubuntu bionic/universe amd64 epstool amd64 3.08+repack-7 [108 kB]\n",
            "Get:19 http://archive.ubuntu.com/ubuntu bionic/main amd64 fonts-noto-mono all 20171026-2 [75.5 kB]\n",
            "Get:20 http://archive.ubuntu.com/ubuntu bionic/universe amd64 aglfn all 1.7-3 [29.4 kB]\n",
            "Get:21 http://archive.ubuntu.com/ubuntu bionic/universe amd64 gnuplot-data all 5.2.2+dfsg1-2ubuntu1 [56.7 kB]\n",
            "Get:22 http://archive.ubuntu.com/ubuntu bionic-updates/main amd64 liblua5.3-0 amd64 5.3.3-1ubuntu0.18.04.1 [115 kB]\n",
            "Get:23 http://archive.ubuntu.com/ubuntu bionic/universe amd64 libwxbase3.0-0v5 amd64 3.0.4+dfsg-3 [954 kB]\n",
            "Get:24 http://archive.ubuntu.com/ubuntu bionic/main amd64 libgtk2.0-common all 2.24.32-1ubuntu1 [125 kB]\n",
            "Get:25 http://archive.ubuntu.com/ubuntu bionic/main amd64 libgtk2.0-0 amd64 2.24.32-1ubuntu1 [1,769 kB]\n",
            "Get:26 http://archive.ubuntu.com/ubuntu bionic/main amd64 libnotify4 amd64 0.7.7-3 [17.3 kB]\n",
            "Get:27 http://archive.ubuntu.com/ubuntu bionic/universe amd64 libwxgtk3.0-0v5 amd64 3.0.4+dfsg-3 [4,182 kB]\n",
            "Get:28 http://archive.ubuntu.com/ubuntu bionic/universe amd64 gnuplot-qt amd64 5.2.2+dfsg1-2ubuntu1 [1,013 kB]\n",
            "Get:29 http://archive.ubuntu.com/ubuntu bionic/main amd64 gsfonts all 1:8.11+urwcyr1.0.7~pre44-4.4 [3,120 kB]\n",
            "Get:30 http://archive.ubuntu.com/ubuntu bionic/main amd64 libsuitesparseconfig5 amd64 1:5.1.2-2 [9,044 B]\n",
            "Get:31 http://archive.ubuntu.com/ubuntu bionic/main amd64 libamd2 amd64 1:5.1.2-2 [19.5 kB]\n",
            "Get:32 http://archive.ubuntu.com/ubuntu bionic/main amd64 libcamd2 amd64 1:5.1.2-2 [20.9 kB]\n",
            "Get:33 http://archive.ubuntu.com/ubuntu bionic/main amd64 libccolamd2 amd64 1:5.1.2-2 [21.7 kB]\n",
            "Get:34 http://archive.ubuntu.com/ubuntu bionic/main amd64 libcolamd2 amd64 1:5.1.2-2 [16.2 kB]\n",
            "Get:35 http://archive.ubuntu.com/ubuntu bionic/main amd64 libmetis5 amd64 5.1.0.dfsg-5 [169 kB]\n",
            "Get:36 http://archive.ubuntu.com/ubuntu bionic/main amd64 libcholmod3 amd64 1:5.1.2-2 [300 kB]\n",
            "Get:37 http://archive.ubuntu.com/ubuntu bionic-updates/main amd64 libcupsfilters1 amd64 1.20.2-0ubuntu3.1 [108 kB]\n",
            "Get:38 http://archive.ubuntu.com/ubuntu bionic/main amd64 libcxsparse3 amd64 1:5.1.2-2 [63.9 kB]\n",
            "Get:39 http://archive.ubuntu.com/ubuntu bionic/main amd64 libdata-dump-perl all 1.23-1 [27.0 kB]\n",
            "Get:40 http://archive.ubuntu.com/ubuntu bionic/universe amd64 libemf1 amd64 1.0.9+git.10.3231442-1 [54.7 kB]\n",
            "Get:41 http://archive.ubuntu.com/ubuntu bionic/main amd64 libencode-locale-perl all 1.05-1 [12.3 kB]\n",
            "Get:42 http://archive.ubuntu.com/ubuntu bionic/main amd64 libfftw3-single3 amd64 3.3.7-1 [764 kB]\n",
            "Get:43 http://archive.ubuntu.com/ubuntu bionic/main amd64 libtimedate-perl all 2.3000-2 [37.5 kB]\n",
            "Get:44 http://archive.ubuntu.com/ubuntu bionic/main amd64 libhttp-date-perl all 6.02-1 [10.4 kB]\n",
            "Get:45 http://archive.ubuntu.com/ubuntu bionic/main amd64 libfile-listing-perl all 6.04-1 [9,774 B]\n",
            "Get:46 http://archive.ubuntu.com/ubuntu bionic/universe amd64 libfltk1.3 amd64 1.3.4-6 [523 kB]\n",
            "Get:47 http://archive.ubuntu.com/ubuntu bionic/universe amd64 libfltk-gl1.3 amd64 1.3.4-6 [37.7 kB]\n",
            "Get:48 http://archive.ubuntu.com/ubuntu bionic/main amd64 libfont-afm-perl all 1.20-2 [13.2 kB]\n",
            "Get:49 http://archive.ubuntu.com/ubuntu bionic/main amd64 libgail18 amd64 2.24.32-1ubuntu1 [14.2 kB]\n",
            "Get:50 http://archive.ubuntu.com/ubuntu bionic/main amd64 libgail-common amd64 2.24.32-1ubuntu1 [112 kB]\n",
            "Get:51 http://archive.ubuntu.com/ubuntu bionic/universe amd64 libglpk40 amd64 4.65-1 [378 kB]\n",
            "Get:52 http://archive.ubuntu.com/ubuntu bionic/main amd64 libwmf0.2-7 amd64 0.2.8.4-12 [150 kB]\n",
            "Get:53 http://archive.ubuntu.com/ubuntu bionic-updates/universe amd64 libgraphicsmagick-q16-3 amd64 1.3.28-2ubuntu0.1 [1,116 kB]\n",
            "Get:54 http://archive.ubuntu.com/ubuntu bionic-updates/universe amd64 libgraphicsmagick++-q16-12 amd64 1.3.28-2ubuntu0.1 [102 kB]\n",
            "Get:55 http://archive.ubuntu.com/ubuntu bionic/main amd64 libgtk2.0-bin amd64 2.24.32-1ubuntu1 [7,536 B]\n",
            "Get:56 http://archive.ubuntu.com/ubuntu bionic/main amd64 libhtml-tagset-perl all 3.20-3 [12.1 kB]\n",
            "Get:57 http://archive.ubuntu.com/ubuntu bionic/main amd64 liburi-perl all 1.73-1 [77.2 kB]\n",
            "Get:58 http://archive.ubuntu.com/ubuntu bionic/main amd64 libhtml-parser-perl amd64 3.72-3build1 [85.9 kB]\n",
            "Get:59 http://archive.ubuntu.com/ubuntu bionic/main amd64 libio-html-perl all 1.001-1 [14.9 kB]\n",
            "Get:60 http://archive.ubuntu.com/ubuntu bionic/main amd64 liblwp-mediatypes-perl all 6.02-1 [21.7 kB]\n",
            "Get:61 http://archive.ubuntu.com/ubuntu bionic/main amd64 libhttp-message-perl all 6.14-1 [72.1 kB]\n",
            "Get:62 http://archive.ubuntu.com/ubuntu bionic/main amd64 libhtml-form-perl all 6.03-1 [23.5 kB]\n",
            "Get:63 http://archive.ubuntu.com/ubuntu bionic/main amd64 libhtml-tree-perl all 5.07-1 [200 kB]\n",
            "Get:64 http://archive.ubuntu.com/ubuntu bionic/main amd64 libhtml-format-perl all 2.12-1 [41.3 kB]\n",
            "Get:65 http://archive.ubuntu.com/ubuntu bionic/main amd64 libhttp-cookies-perl all 6.04-1 [17.2 kB]\n",
            "Get:66 http://archive.ubuntu.com/ubuntu bionic-updates/main amd64 libhttp-daemon-perl all 6.01-1ubuntu0.1 [15.9 kB]\n",
            "Get:67 http://archive.ubuntu.com/ubuntu bionic/main amd64 libhttp-negotiate-perl all 6.00-2 [13.4 kB]\n",
            "Get:68 http://archive.ubuntu.com/ubuntu bionic/main amd64 perl-openssl-defaults amd64 3build1 [7,012 B]\n",
            "Get:69 http://archive.ubuntu.com/ubuntu bionic-updates/main amd64 libnet-ssleay-perl amd64 1.84-1ubuntu0.2 [283 kB]\n",
            "Get:70 http://archive.ubuntu.com/ubuntu bionic-updates/main amd64 libio-socket-ssl-perl all 2.060-3~ubuntu18.04.1 [173 kB]\n",
            "Get:71 http://archive.ubuntu.com/ubuntu bionic/main amd64 libnet-http-perl all 6.17-1 [22.7 kB]\n",
            "Get:72 http://archive.ubuntu.com/ubuntu bionic/main amd64 libtry-tiny-perl all 0.30-1 [20.5 kB]\n",
            "Get:73 http://archive.ubuntu.com/ubuntu bionic/main amd64 libwww-robotrules-perl all 6.01-1 [14.1 kB]\n",
            "Get:74 http://archive.ubuntu.com/ubuntu bionic-updates/main amd64 libwww-perl all 6.31-1ubuntu0.1 [137 kB]\n",
            "Get:75 http://archive.ubuntu.com/ubuntu bionic/main amd64 liblwp-protocol-https-perl all 6.07-2 [8,284 B]\n",
            "Get:76 http://archive.ubuntu.com/ubuntu bionic-updates/main amd64 libmagick++-6.q16-7 amd64 8:6.9.7.4+dfsg-16ubuntu6.13 [139 kB]\n",
            "Get:77 http://archive.ubuntu.com/ubuntu bionic/main amd64 libnet-smtp-ssl-perl all 1.04-1 [5,948 B]\n",
            "Get:78 http://archive.ubuntu.com/ubuntu bionic/main amd64 libmailtools-perl all 2.18-1 [74.0 kB]\n",
            "Get:79 http://archive.ubuntu.com/ubuntu bionic/universe amd64 libqrupdate1 amd64 1.1.2-2build1 [36.5 kB]\n",
            "Get:80 http://archive.ubuntu.com/ubuntu bionic/main amd64 libumfpack5 amd64 1:5.1.2-2 [229 kB]\n",
            "Get:81 http://archive.ubuntu.com/ubuntu bionic/universe amd64 liboctave4 amd64 4.2.2-1ubuntu1 [6,736 kB]\n",
            "Get:82 http://archive.ubuntu.com/ubuntu bionic/universe amd64 libplot2c2 amd64 2.6-9 [502 kB]\n",
            "Get:83 http://archive.ubuntu.com/ubuntu bionic/universe amd64 libportaudio2 amd64 19.6.0-1 [64.6 kB]\n",
            "Get:84 http://archive.ubuntu.com/ubuntu bionic/universe amd64 libzip4 amd64 1.1.2-1.1 [37.8 kB]\n",
            "Get:85 http://archive.ubuntu.com/ubuntu bionic/universe amd64 libpstoedit0c2a amd64 3.70-5 [349 kB]\n",
            "Get:86 http://archive.ubuntu.com/ubuntu bionic/universe amd64 libqscintilla2-qt5-l10n all 2.10.2+dfsg-4 [39.7 kB]\n",
            "Get:87 http://archive.ubuntu.com/ubuntu bionic/universe amd64 libqscintilla2-qt5-13 amd64 2.10.2+dfsg-4 [1,030 kB]\n",
            "Get:88 http://archive.ubuntu.com/ubuntu bionic-updates/main amd64 libqt5opengl5 amd64 5.9.5+dfsg-0ubuntu2.6 [132 kB]\n",
            "Get:89 http://archive.ubuntu.com/ubuntu bionic/universe amd64 libtext-unidecode-perl all 1.30-1 [99.0 kB]\n",
            "Get:90 http://archive.ubuntu.com/ubuntu bionic/main amd64 libxml-namespacesupport-perl all 1.12-1 [13.2 kB]\n",
            "Get:91 http://archive.ubuntu.com/ubuntu bionic/main amd64 libxml-sax-base-perl all 1.09-1 [18.8 kB]\n",
            "Get:92 http://archive.ubuntu.com/ubuntu bionic/main amd64 libxml-sax-perl all 0.99+dfsg-2ubuntu1 [64.6 kB]\n",
            "Get:93 http://archive.ubuntu.com/ubuntu bionic/main amd64 libxml-libxml-perl amd64 2.0128+dfsg-5 [316 kB]\n",
            "Get:94 http://archive.ubuntu.com/ubuntu bionic/main amd64 libxml-parser-perl amd64 2.44-2build3 [199 kB]\n",
            "Get:95 http://archive.ubuntu.com/ubuntu bionic/main amd64 libxml-sax-expat-perl all 0.40-2 [11.5 kB]\n",
            "Get:96 http://archive.ubuntu.com/ubuntu bionic/main amd64 notification-daemon amd64 3.20.0-3 [36.9 kB]\n",
            "Get:97 http://archive.ubuntu.com/ubuntu bionic/universe amd64 pstoedit amd64 3.70-5 [102 kB]\n",
            "Get:98 http://archive.ubuntu.com/ubuntu bionic/universe amd64 texinfo amd64 6.5.0.dfsg.1-2 [752 kB]\n",
            "Get:99 http://archive.ubuntu.com/ubuntu bionic/main amd64 libauthen-sasl-perl all 2.1600-1 [48.7 kB]\n",
            "Get:100 http://archive.ubuntu.com/ubuntu bionic-updates/main amd64 libosmesa6 amd64 20.0.8-0ubuntu1~18.04.1 [2,641 kB]\n",
            "Get:101 http://archive.ubuntu.com/ubuntu bionic/universe amd64 octave-common all 4.2.2-1ubuntu1 [1,444 kB]\n",
            "Get:102 http://archive.ubuntu.com/ubuntu bionic/universe amd64 octave amd64 4.2.2-1ubuntu1 [1,583 kB]\n",
            "Get:103 http://archive.ubuntu.com/ubuntu bionic/universe amd64 octave-doc all 4.2.2-1ubuntu1 [6,836 kB]\n",
            "Fetched 53.6 MB in 11s (4,967 kB/s)\n",
            "Extracting templates from packages: 100%\n",
            "Selecting previously unselected package install-info.\n",
            "(Reading database ... 155676 files and directories currently installed.)\n",
            "Preparing to unpack .../install-info_6.5.0.dfsg.1-2_amd64.deb ...\n",
            "Unpacking install-info (6.5.0.dfsg.1-2) ...\n",
            "Setting up install-info (6.5.0.dfsg.1-2) ...\n",
            "Selecting previously unselected package fonts-droid-fallback.\n",
            "(Reading database ... 155689 files and directories currently installed.)\n",
            "Preparing to unpack .../000-fonts-droid-fallback_1%3a6.0.1r16-1.1_all.deb ...\n",
            "Unpacking fonts-droid-fallback (1:6.0.1r16-1.1) ...\n",
            "Selecting previously unselected package liblqr-1-0:amd64.\n",
            "Preparing to unpack .../001-liblqr-1-0_0.4.2-2.1_amd64.deb ...\n",
            "Unpacking liblqr-1-0:amd64 (0.4.2-2.1) ...\n",
            "Selecting previously unselected package imagemagick-6-common.\n",
            "Preparing to unpack .../002-imagemagick-6-common_8%3a6.9.7.4+dfsg-16ubuntu6.13_all.deb ...\n",
            "Unpacking imagemagick-6-common (8:6.9.7.4+dfsg-16ubuntu6.13) ...\n",
            "Selecting previously unselected package libmagickcore-6.q16-3:amd64.\n",
            "Preparing to unpack .../003-libmagickcore-6.q16-3_8%3a6.9.7.4+dfsg-16ubuntu6.13_amd64.deb ...\n",
            "Unpacking libmagickcore-6.q16-3:amd64 (8:6.9.7.4+dfsg-16ubuntu6.13) ...\n",
            "Selecting previously unselected package libmagickwand-6.q16-3:amd64.\n",
            "Preparing to unpack .../004-libmagickwand-6.q16-3_8%3a6.9.7.4+dfsg-16ubuntu6.13_amd64.deb ...\n",
            "Unpacking libmagickwand-6.q16-3:amd64 (8:6.9.7.4+dfsg-16ubuntu6.13) ...\n",
            "Selecting previously unselected package libqt5svg5:amd64.\n",
            "Preparing to unpack .../005-libqt5svg5_5.9.5-0ubuntu1.1_amd64.deb ...\n",
            "Unpacking libqt5svg5:amd64 (5.9.5-0ubuntu1.1) ...\n",
            "Selecting previously unselected package poppler-data.\n",
            "Preparing to unpack .../006-poppler-data_0.4.8-2_all.deb ...\n",
            "Unpacking poppler-data (0.4.8-2) ...\n",
            "Selecting previously unselected package tex-common.\n",
            "Preparing to unpack .../007-tex-common_6.09_all.deb ...\n",
            "Unpacking tex-common (6.09) ...\n",
            "Selecting previously unselected package netbase.\n",
            "Preparing to unpack .../008-netbase_5.4_all.deb ...\n",
            "Unpacking netbase (5.4) ...\n",
            "Selecting previously unselected package info.\n",
            "Preparing to unpack .../009-info_6.5.0.dfsg.1-2_amd64.deb ...\n",
            "Unpacking info (6.5.0.dfsg.1-2) ...\n",
            "Selecting previously unselected package libcupsimage2:amd64.\n",
            "Preparing to unpack .../010-libcupsimage2_2.2.7-1ubuntu2.9_amd64.deb ...\n",
            "Unpacking libcupsimage2:amd64 (2.2.7-1ubuntu2.9) ...\n",
            "Selecting previously unselected package libijs-0.35:amd64.\n",
            "Preparing to unpack .../011-libijs-0.35_0.35-13_amd64.deb ...\n",
            "Unpacking libijs-0.35:amd64 (0.35-13) ...\n",
            "Selecting previously unselected package libjbig2dec0:amd64.\n",
            "Preparing to unpack .../012-libjbig2dec0_0.13-6_amd64.deb ...\n",
            "Unpacking libjbig2dec0:amd64 (0.13-6) ...\n",
            "Selecting previously unselected package libgs9-common.\n",
            "Preparing to unpack .../013-libgs9-common_9.26~dfsg+0-0ubuntu0.18.04.16_all.deb ...\n",
            "Unpacking libgs9-common (9.26~dfsg+0-0ubuntu0.18.04.16) ...\n",
            "Selecting previously unselected package libgs9:amd64.\n",
            "Preparing to unpack .../014-libgs9_9.26~dfsg+0-0ubuntu0.18.04.16_amd64.deb ...\n",
            "Unpacking libgs9:amd64 (9.26~dfsg+0-0ubuntu0.18.04.16) ...\n",
            "Selecting previously unselected package ghostscript.\n",
            "Preparing to unpack .../015-ghostscript_9.26~dfsg+0-0ubuntu0.18.04.16_amd64.deb ...\n",
            "Unpacking ghostscript (9.26~dfsg+0-0ubuntu0.18.04.16) ...\n",
            "Selecting previously unselected package epstool.\n",
            "Preparing to unpack .../016-epstool_3.08+repack-7_amd64.deb ...\n",
            "Unpacking epstool (3.08+repack-7) ...\n",
            "Selecting previously unselected package fonts-noto-mono.\n",
            "Preparing to unpack .../017-fonts-noto-mono_20171026-2_all.deb ...\n",
            "Unpacking fonts-noto-mono (20171026-2) ...\n",
            "Selecting previously unselected package aglfn.\n",
            "Preparing to unpack .../018-aglfn_1.7-3_all.deb ...\n",
            "Unpacking aglfn (1.7-3) ...\n",
            "Selecting previously unselected package gnuplot-data.\n",
            "Preparing to unpack .../019-gnuplot-data_5.2.2+dfsg1-2ubuntu1_all.deb ...\n",
            "Unpacking gnuplot-data (5.2.2+dfsg1-2ubuntu1) ...\n",
            "Selecting previously unselected package liblua5.3-0:amd64.\n",
            "Preparing to unpack .../020-liblua5.3-0_5.3.3-1ubuntu0.18.04.1_amd64.deb ...\n",
            "Unpacking liblua5.3-0:amd64 (5.3.3-1ubuntu0.18.04.1) ...\n",
            "Selecting previously unselected package libwxbase3.0-0v5:amd64.\n",
            "Preparing to unpack .../021-libwxbase3.0-0v5_3.0.4+dfsg-3_amd64.deb ...\n",
            "Unpacking libwxbase3.0-0v5:amd64 (3.0.4+dfsg-3) ...\n",
            "Selecting previously unselected package libgtk2.0-common.\n",
            "Preparing to unpack .../022-libgtk2.0-common_2.24.32-1ubuntu1_all.deb ...\n",
            "Unpacking libgtk2.0-common (2.24.32-1ubuntu1) ...\n",
            "Selecting previously unselected package libgtk2.0-0:amd64.\n",
            "Preparing to unpack .../023-libgtk2.0-0_2.24.32-1ubuntu1_amd64.deb ...\n",
            "Unpacking libgtk2.0-0:amd64 (2.24.32-1ubuntu1) ...\n",
            "Selecting previously unselected package libnotify4:amd64.\n",
            "Preparing to unpack .../024-libnotify4_0.7.7-3_amd64.deb ...\n",
            "Unpacking libnotify4:amd64 (0.7.7-3) ...\n",
            "Selecting previously unselected package libwxgtk3.0-0v5:amd64.\n",
            "Preparing to unpack .../025-libwxgtk3.0-0v5_3.0.4+dfsg-3_amd64.deb ...\n",
            "Unpacking libwxgtk3.0-0v5:amd64 (3.0.4+dfsg-3) ...\n",
            "Selecting previously unselected package gnuplot-qt.\n",
            "Preparing to unpack .../026-gnuplot-qt_5.2.2+dfsg1-2ubuntu1_amd64.deb ...\n",
            "Unpacking gnuplot-qt (5.2.2+dfsg1-2ubuntu1) ...\n",
            "Selecting previously unselected package gsfonts.\n",
            "Preparing to unpack .../027-gsfonts_1%3a8.11+urwcyr1.0.7~pre44-4.4_all.deb ...\n",
            "Unpacking gsfonts (1:8.11+urwcyr1.0.7~pre44-4.4) ...\n",
            "Selecting previously unselected package libsuitesparseconfig5:amd64.\n",
            "Preparing to unpack .../028-libsuitesparseconfig5_1%3a5.1.2-2_amd64.deb ...\n",
            "Unpacking libsuitesparseconfig5:amd64 (1:5.1.2-2) ...\n",
            "Selecting previously unselected package libamd2:amd64.\n",
            "Preparing to unpack .../029-libamd2_1%3a5.1.2-2_amd64.deb ...\n",
            "Unpacking libamd2:amd64 (1:5.1.2-2) ...\n",
            "Selecting previously unselected package libcamd2:amd64.\n",
            "Preparing to unpack .../030-libcamd2_1%3a5.1.2-2_amd64.deb ...\n",
            "Unpacking libcamd2:amd64 (1:5.1.2-2) ...\n",
            "Selecting previously unselected package libccolamd2:amd64.\n",
            "Preparing to unpack .../031-libccolamd2_1%3a5.1.2-2_amd64.deb ...\n",
            "Unpacking libccolamd2:amd64 (1:5.1.2-2) ...\n",
            "Selecting previously unselected package libcolamd2:amd64.\n",
            "Preparing to unpack .../032-libcolamd2_1%3a5.1.2-2_amd64.deb ...\n",
            "Unpacking libcolamd2:amd64 (1:5.1.2-2) ...\n",
            "Selecting previously unselected package libmetis5:amd64.\n",
            "Preparing to unpack .../033-libmetis5_5.1.0.dfsg-5_amd64.deb ...\n",
            "Unpacking libmetis5:amd64 (5.1.0.dfsg-5) ...\n",
            "Selecting previously unselected package libcholmod3:amd64.\n",
            "Preparing to unpack .../034-libcholmod3_1%3a5.1.2-2_amd64.deb ...\n",
            "Unpacking libcholmod3:amd64 (1:5.1.2-2) ...\n",
            "Selecting previously unselected package libcupsfilters1:amd64.\n",
            "Preparing to unpack .../035-libcupsfilters1_1.20.2-0ubuntu3.1_amd64.deb ...\n",
            "Unpacking libcupsfilters1:amd64 (1.20.2-0ubuntu3.1) ...\n",
            "Selecting previously unselected package libcxsparse3:amd64.\n",
            "Preparing to unpack .../036-libcxsparse3_1%3a5.1.2-2_amd64.deb ...\n",
            "Unpacking libcxsparse3:amd64 (1:5.1.2-2) ...\n",
            "Selecting previously unselected package libdata-dump-perl.\n",
            "Preparing to unpack .../037-libdata-dump-perl_1.23-1_all.deb ...\n",
            "Unpacking libdata-dump-perl (1.23-1) ...\n",
            "Selecting previously unselected package libemf1:amd64.\n",
            "Preparing to unpack .../038-libemf1_1.0.9+git.10.3231442-1_amd64.deb ...\n",
            "Unpacking libemf1:amd64 (1.0.9+git.10.3231442-1) ...\n",
            "Selecting previously unselected package libencode-locale-perl.\n",
            "Preparing to unpack .../039-libencode-locale-perl_1.05-1_all.deb ...\n",
            "Unpacking libencode-locale-perl (1.05-1) ...\n",
            "Selecting previously unselected package libfftw3-single3:amd64.\n",
            "Preparing to unpack .../040-libfftw3-single3_3.3.7-1_amd64.deb ...\n",
            "Unpacking libfftw3-single3:amd64 (3.3.7-1) ...\n",
            "Selecting previously unselected package libtimedate-perl.\n",
            "Preparing to unpack .../041-libtimedate-perl_2.3000-2_all.deb ...\n",
            "Unpacking libtimedate-perl (2.3000-2) ...\n",
            "Selecting previously unselected package libhttp-date-perl.\n",
            "Preparing to unpack .../042-libhttp-date-perl_6.02-1_all.deb ...\n",
            "Unpacking libhttp-date-perl (6.02-1) ...\n",
            "Selecting previously unselected package libfile-listing-perl.\n",
            "Preparing to unpack .../043-libfile-listing-perl_6.04-1_all.deb ...\n",
            "Unpacking libfile-listing-perl (6.04-1) ...\n",
            "Selecting previously unselected package libfltk1.3:amd64.\n",
            "Preparing to unpack .../044-libfltk1.3_1.3.4-6_amd64.deb ...\n",
            "Unpacking libfltk1.3:amd64 (1.3.4-6) ...\n",
            "Selecting previously unselected package libfltk-gl1.3:amd64.\n",
            "Preparing to unpack .../045-libfltk-gl1.3_1.3.4-6_amd64.deb ...\n",
            "Unpacking libfltk-gl1.3:amd64 (1.3.4-6) ...\n",
            "Selecting previously unselected package libfont-afm-perl.\n",
            "Preparing to unpack .../046-libfont-afm-perl_1.20-2_all.deb ...\n",
            "Unpacking libfont-afm-perl (1.20-2) ...\n",
            "Selecting previously unselected package libgail18:amd64.\n",
            "Preparing to unpack .../047-libgail18_2.24.32-1ubuntu1_amd64.deb ...\n",
            "Unpacking libgail18:amd64 (2.24.32-1ubuntu1) ...\n",
            "Selecting previously unselected package libgail-common:amd64.\n",
            "Preparing to unpack .../048-libgail-common_2.24.32-1ubuntu1_amd64.deb ...\n",
            "Unpacking libgail-common:amd64 (2.24.32-1ubuntu1) ...\n",
            "Selecting previously unselected package libglpk40:amd64.\n",
            "Preparing to unpack .../049-libglpk40_4.65-1_amd64.deb ...\n",
            "Unpacking libglpk40:amd64 (4.65-1) ...\n",
            "Selecting previously unselected package libwmf0.2-7:amd64.\n",
            "Preparing to unpack .../050-libwmf0.2-7_0.2.8.4-12_amd64.deb ...\n",
            "Unpacking libwmf0.2-7:amd64 (0.2.8.4-12) ...\n",
            "Selecting previously unselected package libgraphicsmagick-q16-3.\n",
            "Preparing to unpack .../051-libgraphicsmagick-q16-3_1.3.28-2ubuntu0.1_amd64.deb ...\n",
            "Unpacking libgraphicsmagick-q16-3 (1.3.28-2ubuntu0.1) ...\n",
            "Selecting previously unselected package libgraphicsmagick++-q16-12.\n",
            "Preparing to unpack .../052-libgraphicsmagick++-q16-12_1.3.28-2ubuntu0.1_amd64.deb ...\n",
            "Unpacking libgraphicsmagick++-q16-12 (1.3.28-2ubuntu0.1) ...\n",
            "Selecting previously unselected package libgtk2.0-bin.\n",
            "Preparing to unpack .../053-libgtk2.0-bin_2.24.32-1ubuntu1_amd64.deb ...\n",
            "Unpacking libgtk2.0-bin (2.24.32-1ubuntu1) ...\n",
            "Selecting previously unselected package libhtml-tagset-perl.\n",
            "Preparing to unpack .../054-libhtml-tagset-perl_3.20-3_all.deb ...\n",
            "Unpacking libhtml-tagset-perl (3.20-3) ...\n",
            "Selecting previously unselected package liburi-perl.\n",
            "Preparing to unpack .../055-liburi-perl_1.73-1_all.deb ...\n",
            "Unpacking liburi-perl (1.73-1) ...\n",
            "Selecting previously unselected package libhtml-parser-perl.\n",
            "Preparing to unpack .../056-libhtml-parser-perl_3.72-3build1_amd64.deb ...\n",
            "Unpacking libhtml-parser-perl (3.72-3build1) ...\n",
            "Selecting previously unselected package libio-html-perl.\n",
            "Preparing to unpack .../057-libio-html-perl_1.001-1_all.deb ...\n",
            "Unpacking libio-html-perl (1.001-1) ...\n",
            "Selecting previously unselected package liblwp-mediatypes-perl.\n",
            "Preparing to unpack .../058-liblwp-mediatypes-perl_6.02-1_all.deb ...\n",
            "Unpacking liblwp-mediatypes-perl (6.02-1) ...\n",
            "Selecting previously unselected package libhttp-message-perl.\n",
            "Preparing to unpack .../059-libhttp-message-perl_6.14-1_all.deb ...\n",
            "Unpacking libhttp-message-perl (6.14-1) ...\n",
            "Selecting previously unselected package libhtml-form-perl.\n",
            "Preparing to unpack .../060-libhtml-form-perl_6.03-1_all.deb ...\n",
            "Unpacking libhtml-form-perl (6.03-1) ...\n",
            "Selecting previously unselected package libhtml-tree-perl.\n",
            "Preparing to unpack .../061-libhtml-tree-perl_5.07-1_all.deb ...\n",
            "Unpacking libhtml-tree-perl (5.07-1) ...\n",
            "Selecting previously unselected package libhtml-format-perl.\n",
            "Preparing to unpack .../062-libhtml-format-perl_2.12-1_all.deb ...\n",
            "Unpacking libhtml-format-perl (2.12-1) ...\n",
            "Selecting previously unselected package libhttp-cookies-perl.\n",
            "Preparing to unpack .../063-libhttp-cookies-perl_6.04-1_all.deb ...\n",
            "Unpacking libhttp-cookies-perl (6.04-1) ...\n",
            "Selecting previously unselected package libhttp-daemon-perl.\n",
            "Preparing to unpack .../064-libhttp-daemon-perl_6.01-1ubuntu0.1_all.deb ...\n",
            "Unpacking libhttp-daemon-perl (6.01-1ubuntu0.1) ...\n",
            "Selecting previously unselected package libhttp-negotiate-perl.\n",
            "Preparing to unpack .../065-libhttp-negotiate-perl_6.00-2_all.deb ...\n",
            "Unpacking libhttp-negotiate-perl (6.00-2) ...\n",
            "Selecting previously unselected package perl-openssl-defaults:amd64.\n",
            "Preparing to unpack .../066-perl-openssl-defaults_3build1_amd64.deb ...\n",
            "Unpacking perl-openssl-defaults:amd64 (3build1) ...\n",
            "Selecting previously unselected package libnet-ssleay-perl.\n",
            "Preparing to unpack .../067-libnet-ssleay-perl_1.84-1ubuntu0.2_amd64.deb ...\n",
            "Unpacking libnet-ssleay-perl (1.84-1ubuntu0.2) ...\n",
            "Selecting previously unselected package libio-socket-ssl-perl.\n",
            "Preparing to unpack .../068-libio-socket-ssl-perl_2.060-3~ubuntu18.04.1_all.deb ...\n",
            "Unpacking libio-socket-ssl-perl (2.060-3~ubuntu18.04.1) ...\n",
            "Selecting previously unselected package libnet-http-perl.\n",
            "Preparing to unpack .../069-libnet-http-perl_6.17-1_all.deb ...\n",
            "Unpacking libnet-http-perl (6.17-1) ...\n",
            "Selecting previously unselected package libtry-tiny-perl.\n",
            "Preparing to unpack .../070-libtry-tiny-perl_0.30-1_all.deb ...\n",
            "Unpacking libtry-tiny-perl (0.30-1) ...\n",
            "Selecting previously unselected package libwww-robotrules-perl.\n",
            "Preparing to unpack .../071-libwww-robotrules-perl_6.01-1_all.deb ...\n",
            "Unpacking libwww-robotrules-perl (6.01-1) ...\n",
            "Selecting previously unselected package libwww-perl.\n",
            "Preparing to unpack .../072-libwww-perl_6.31-1ubuntu0.1_all.deb ...\n",
            "Unpacking libwww-perl (6.31-1ubuntu0.1) ...\n",
            "Selecting previously unselected package liblwp-protocol-https-perl.\n",
            "Preparing to unpack .../073-liblwp-protocol-https-perl_6.07-2_all.deb ...\n",
            "Unpacking liblwp-protocol-https-perl (6.07-2) ...\n",
            "Selecting previously unselected package libmagick++-6.q16-7:amd64.\n",
            "Preparing to unpack .../074-libmagick++-6.q16-7_8%3a6.9.7.4+dfsg-16ubuntu6.13_amd64.deb ...\n",
            "Unpacking libmagick++-6.q16-7:amd64 (8:6.9.7.4+dfsg-16ubuntu6.13) ...\n",
            "Selecting previously unselected package libnet-smtp-ssl-perl.\n",
            "Preparing to unpack .../075-libnet-smtp-ssl-perl_1.04-1_all.deb ...\n",
            "Unpacking libnet-smtp-ssl-perl (1.04-1) ...\n",
            "Selecting previously unselected package libmailtools-perl.\n",
            "Preparing to unpack .../076-libmailtools-perl_2.18-1_all.deb ...\n",
            "Unpacking libmailtools-perl (2.18-1) ...\n",
            "Selecting previously unselected package libqrupdate1:amd64.\n",
            "Preparing to unpack .../077-libqrupdate1_1.1.2-2build1_amd64.deb ...\n",
            "Unpacking libqrupdate1:amd64 (1.1.2-2build1) ...\n",
            "Selecting previously unselected package libumfpack5:amd64.\n",
            "Preparing to unpack .../078-libumfpack5_1%3a5.1.2-2_amd64.deb ...\n",
            "Unpacking libumfpack5:amd64 (1:5.1.2-2) ...\n",
            "Selecting previously unselected package liboctave4:amd64.\n",
            "Preparing to unpack .../079-liboctave4_4.2.2-1ubuntu1_amd64.deb ...\n",
            "Unpacking liboctave4:amd64 (4.2.2-1ubuntu1) ...\n",
            "Selecting previously unselected package libplot2c2:amd64.\n",
            "Preparing to unpack .../080-libplot2c2_2.6-9_amd64.deb ...\n",
            "Unpacking libplot2c2:amd64 (2.6-9) ...\n",
            "Selecting previously unselected package libportaudio2:amd64.\n",
            "Preparing to unpack .../081-libportaudio2_19.6.0-1_amd64.deb ...\n",
            "Unpacking libportaudio2:amd64 (19.6.0-1) ...\n",
            "Selecting previously unselected package libzip4:amd64.\n",
            "Preparing to unpack .../082-libzip4_1.1.2-1.1_amd64.deb ...\n",
            "Unpacking libzip4:amd64 (1.1.2-1.1) ...\n",
            "Selecting previously unselected package libpstoedit0c2a.\n",
            "Preparing to unpack .../083-libpstoedit0c2a_3.70-5_amd64.deb ...\n",
            "Unpacking libpstoedit0c2a (3.70-5) ...\n",
            "Selecting previously unselected package libqscintilla2-qt5-l10n.\n",
            "Preparing to unpack .../084-libqscintilla2-qt5-l10n_2.10.2+dfsg-4_all.deb ...\n",
            "Unpacking libqscintilla2-qt5-l10n (2.10.2+dfsg-4) ...\n",
            "Selecting previously unselected package libqscintilla2-qt5-13.\n",
            "Preparing to unpack .../085-libqscintilla2-qt5-13_2.10.2+dfsg-4_amd64.deb ...\n",
            "Unpacking libqscintilla2-qt5-13 (2.10.2+dfsg-4) ...\n",
            "Selecting previously unselected package libqt5opengl5:amd64.\n",
            "Preparing to unpack .../086-libqt5opengl5_5.9.5+dfsg-0ubuntu2.6_amd64.deb ...\n",
            "Unpacking libqt5opengl5:amd64 (5.9.5+dfsg-0ubuntu2.6) ...\n",
            "Selecting previously unselected package libtext-unidecode-perl.\n",
            "Preparing to unpack .../087-libtext-unidecode-perl_1.30-1_all.deb ...\n",
            "Unpacking libtext-unidecode-perl (1.30-1) ...\n",
            "Selecting previously unselected package libxml-namespacesupport-perl.\n",
            "Preparing to unpack .../088-libxml-namespacesupport-perl_1.12-1_all.deb ...\n",
            "Unpacking libxml-namespacesupport-perl (1.12-1) ...\n",
            "Selecting previously unselected package libxml-sax-base-perl.\n",
            "Preparing to unpack .../089-libxml-sax-base-perl_1.09-1_all.deb ...\n",
            "Unpacking libxml-sax-base-perl (1.09-1) ...\n",
            "Selecting previously unselected package libxml-sax-perl.\n",
            "Preparing to unpack .../090-libxml-sax-perl_0.99+dfsg-2ubuntu1_all.deb ...\n",
            "Unpacking libxml-sax-perl (0.99+dfsg-2ubuntu1) ...\n",
            "Selecting previously unselected package libxml-libxml-perl.\n",
            "Preparing to unpack .../091-libxml-libxml-perl_2.0128+dfsg-5_amd64.deb ...\n",
            "Unpacking libxml-libxml-perl (2.0128+dfsg-5) ...\n",
            "Selecting previously unselected package libxml-parser-perl.\n",
            "Preparing to unpack .../092-libxml-parser-perl_2.44-2build3_amd64.deb ...\n",
            "Unpacking libxml-parser-perl (2.44-2build3) ...\n",
            "Selecting previously unselected package libxml-sax-expat-perl.\n",
            "Preparing to unpack .../093-libxml-sax-expat-perl_0.40-2_all.deb ...\n",
            "Unpacking libxml-sax-expat-perl (0.40-2) ...\n",
            "Selecting previously unselected package notification-daemon.\n",
            "Preparing to unpack .../094-notification-daemon_3.20.0-3_amd64.deb ...\n",
            "Unpacking notification-daemon (3.20.0-3) ...\n",
            "Selecting previously unselected package pstoedit.\n",
            "Preparing to unpack .../095-pstoedit_3.70-5_amd64.deb ...\n",
            "Unpacking pstoedit (3.70-5) ...\n",
            "Selecting previously unselected package texinfo.\n",
            "Preparing to unpack .../096-texinfo_6.5.0.dfsg.1-2_amd64.deb ...\n",
            "Unpacking texinfo (6.5.0.dfsg.1-2) ...\n",
            "Selecting previously unselected package libauthen-sasl-perl.\n",
            "Preparing to unpack .../097-libauthen-sasl-perl_2.1600-1_all.deb ...\n",
            "Unpacking libauthen-sasl-perl (2.1600-1) ...\n",
            "Selecting previously unselected package libosmesa6:amd64.\n",
            "Preparing to unpack .../098-libosmesa6_20.0.8-0ubuntu1~18.04.1_amd64.deb ...\n",
            "Unpacking libosmesa6:amd64 (20.0.8-0ubuntu1~18.04.1) ...\n",
            "Selecting previously unselected package octave-common.\n",
            "Preparing to unpack .../099-octave-common_4.2.2-1ubuntu1_all.deb ...\n",
            "Unpacking octave-common (4.2.2-1ubuntu1) ...\n",
            "Selecting previously unselected package octave.\n",
            "Preparing to unpack .../100-octave_4.2.2-1ubuntu1_amd64.deb ...\n",
            "Unpacking octave (4.2.2-1ubuntu1) ...\n",
            "Selecting previously unselected package octave-doc.\n",
            "Preparing to unpack .../101-octave-doc_4.2.2-1ubuntu1_all.deb ...\n",
            "Unpacking octave-doc (4.2.2-1ubuntu1) ...\n",
            "Setting up libgs9-common (9.26~dfsg+0-0ubuntu0.18.04.16) ...\n",
            "Setting up libhtml-tagset-perl (3.20-3) ...\n",
            "Setting up imagemagick-6-common (8:6.9.7.4+dfsg-16ubuntu6.13) ...\n",
            "Setting up libnotify4:amd64 (0.7.7-3) ...\n",
            "Setting up libcxsparse3:amd64 (1:5.1.2-2) ...\n",
            "Setting up libtry-tiny-perl (0.30-1) ...\n",
            "Setting up fonts-droid-fallback (1:6.0.1r16-1.1) ...\n",
            "Setting up libfont-afm-perl (1.20-2) ...\n",
            "Setting up libgtk2.0-common (2.24.32-1ubuntu1) ...\n",
            "Setting up info (6.5.0.dfsg.1-2) ...\n",
            "update-alternatives: using /usr/bin/info to provide /usr/bin/infobrowser (infobrowser) in auto mode\n",
            "Setting up libportaudio2:amd64 (19.6.0-1) ...\n",
            "Setting up tex-common (6.09) ...\n",
            "update-language: texlive-base not installed and configured, doing nothing!\n",
            "Setting up libxml-namespacesupport-perl (1.12-1) ...\n",
            "Setting up gsfonts (1:8.11+urwcyr1.0.7~pre44-4.4) ...\n",
            "Setting up libencode-locale-perl (1.05-1) ...\n",
            "Setting up libtimedate-perl (2.3000-2) ...\n",
            "Setting up poppler-data (0.4.8-2) ...\n",
            "Setting up perl-openssl-defaults:amd64 (3build1) ...\n",
            "Setting up libosmesa6:amd64 (20.0.8-0ubuntu1~18.04.1) ...\n",
            "Setting up libio-html-perl (1.001-1) ...\n",
            "Setting up libtext-unidecode-perl (1.30-1) ...\n",
            "Setting up libqt5opengl5:amd64 (5.9.5+dfsg-0ubuntu2.6) ...\n",
            "Setting up fonts-noto-mono (20171026-2) ...\n",
            "Setting up libwxbase3.0-0v5:amd64 (3.0.4+dfsg-3) ...\n",
            "Setting up libqrupdate1:amd64 (1.1.2-2build1) ...\n",
            "Setting up libcupsfilters1:amd64 (1.20.2-0ubuntu3.1) ...\n",
            "Setting up libzip4:amd64 (1.1.2-1.1) ...\n",
            "Setting up libcupsimage2:amd64 (2.2.7-1ubuntu2.9) ...\n",
            "Setting up libxml-sax-base-perl (1.09-1) ...\n",
            "Setting up liblqr-1-0:amd64 (0.4.2-2.1) ...\n",
            "Setting up libjbig2dec0:amd64 (0.13-6) ...\n",
            "Setting up liblwp-mediatypes-perl (6.02-1) ...\n",
            "Setting up liburi-perl (1.73-1) ...\n",
            "Setting up libqt5svg5:amd64 (5.9.5-0ubuntu1.1) ...\n",
            "Setting up libsuitesparseconfig5:amd64 (1:5.1.2-2) ...\n",
            "Setting up libmetis5:amd64 (5.1.0.dfsg-5) ...\n",
            "Setting up libdata-dump-perl (1.23-1) ...\n",
            "Setting up libhtml-parser-perl (3.72-3build1) ...\n",
            "Setting up libijs-0.35:amd64 (0.35-13) ...\n",
            "Setting up libcolamd2:amd64 (1:5.1.2-2) ...\n",
            "Setting up libfltk1.3:amd64 (1.3.4-6) ...\n",
            "Setting up libccolamd2:amd64 (1:5.1.2-2) ...\n",
            "Setting up libfftw3-single3:amd64 (3.3.7-1) ...\n",
            "Setting up octave-common (4.2.2-1ubuntu1) ...\n",
            "Setting up libnet-http-perl (6.17-1) ...\n",
            "Setting up libqscintilla2-qt5-l10n (2.10.2+dfsg-4) ...\n",
            "Setting up libemf1:amd64 (1.0.9+git.10.3231442-1) ...\n",
            "Setting up aglfn (1.7-3) ...\n",
            "Setting up libplot2c2:amd64 (2.6-9) ...\n",
            "Setting up liblua5.3-0:amd64 (5.3.3-1ubuntu0.18.04.1) ...\n",
            "Setting up libgs9:amd64 (9.26~dfsg+0-0ubuntu0.18.04.16) ...\n",
            "Setting up libwmf0.2-7:amd64 (0.2.8.4-12) ...\n",
            "Setting up libwww-robotrules-perl (6.01-1) ...\n",
            "Setting up libauthen-sasl-perl (2.1600-1) ...\n",
            "Setting up notification-daemon (3.20.0-3) ...\n",
            "Setting up octave-doc (4.2.2-1ubuntu1) ...\n",
            "Setting up netbase (5.4) ...\n",
            "Setting up libxml-sax-perl (0.99+dfsg-2ubuntu1) ...\n",
            "update-perl-sax-parsers: Registering Perl SAX parser XML::SAX::PurePerl with priority 10...\n",
            "update-perl-sax-parsers: Updating overall Perl SAX parser modules info file...\n",
            "\n",
            "Creating config file /etc/perl/XML/SAX/ParserDetails.ini with new version\n",
            "Setting up libgtk2.0-0:amd64 (2.24.32-1ubuntu1) ...\n",
            "Setting up libhttp-date-perl (6.02-1) ...\n",
            "Setting up libmagickcore-6.q16-3:amd64 (8:6.9.7.4+dfsg-16ubuntu6.13) ...\n",
            "Setting up libgail18:amd64 (2.24.32-1ubuntu1) ...\n",
            "Setting up libnet-ssleay-perl (1.84-1ubuntu0.2) ...\n",
            "Setting up libfltk-gl1.3:amd64 (1.3.4-6) ...\n",
            "Setting up libcamd2:amd64 (1:5.1.2-2) ...\n",
            "Setting up libqscintilla2-qt5-13 (2.10.2+dfsg-4) ...\n",
            "Setting up libwxgtk3.0-0v5:amd64 (3.0.4+dfsg-3) ...\n",
            "Setting up libgail-common:amd64 (2.24.32-1ubuntu1) ...\n",
            "Setting up ghostscript (9.26~dfsg+0-0ubuntu0.18.04.16) ...\n",
            "Setting up gnuplot-data (5.2.2+dfsg1-2ubuntu1) ...\n",
            "Setting up libio-socket-ssl-perl (2.060-3~ubuntu18.04.1) ...\n",
            "Setting up libgraphicsmagick-q16-3 (1.3.28-2ubuntu0.1) ...\n",
            "Setting up libhtml-tree-perl (5.07-1) ...\n",
            "Setting up libamd2:amd64 (1:5.1.2-2) ...\n",
            "Setting up libmagickwand-6.q16-3:amd64 (8:6.9.7.4+dfsg-16ubuntu6.13) ...\n",
            "Setting up libfile-listing-perl (6.04-1) ...\n",
            "Setting up libhttp-message-perl (6.14-1) ...\n",
            "Setting up libxml-libxml-perl (2.0128+dfsg-5) ...\n",
            "update-perl-sax-parsers: Registering Perl SAX parser XML::LibXML::SAX::Parser with priority 50...\n",
            "update-perl-sax-parsers: Registering Perl SAX parser XML::LibXML::SAX with priority 50...\n",
            "update-perl-sax-parsers: Updating overall Perl SAX parser modules info file...\n",
            "Replacing config file /etc/perl/XML/SAX/ParserDetails.ini with new version\n",
            "Setting up libhttp-negotiate-perl (6.00-2) ...\n",
            "Setting up libgtk2.0-bin (2.24.32-1ubuntu1) ...\n",
            "Setting up libgraphicsmagick++-q16-12 (1.3.28-2ubuntu0.1) ...\n",
            "Setting up libnet-smtp-ssl-perl (1.04-1) ...\n",
            "Setting up libhtml-format-perl (2.12-1) ...\n",
            "Setting up libglpk40:amd64 (4.65-1) ...\n",
            "Setting up libhttp-cookies-perl (6.04-1) ...\n",
            "Setting up gnuplot-qt (5.2.2+dfsg1-2ubuntu1) ...\n",
            "update-alternatives: using /usr/bin/gnuplot-qt to provide /usr/bin/gnuplot (gnuplot) in auto mode\n",
            "Setting up epstool (3.08+repack-7) ...\n",
            "Setting up libhttp-daemon-perl (6.01-1ubuntu0.1) ...\n",
            "Setting up libcholmod3:amd64 (1:5.1.2-2) ...\n",
            "Setting up libmagick++-6.q16-7:amd64 (8:6.9.7.4+dfsg-16ubuntu6.13) ...\n",
            "Setting up libpstoedit0c2a (3.70-5) ...\n",
            "Setting up libhtml-form-perl (6.03-1) ...\n",
            "Setting up texinfo (6.5.0.dfsg.1-2) ...\n",
            "Setting up libmailtools-perl (2.18-1) ...\n",
            "Setting up libumfpack5:amd64 (1:5.1.2-2) ...\n",
            "Setting up pstoedit (3.70-5) ...\n",
            "Setting up liboctave4:amd64 (4.2.2-1ubuntu1) ...\n",
            "Setting up octave (4.2.2-1ubuntu1) ...\n",
            "Setting up liblwp-protocol-https-perl (6.07-2) ...\n",
            "Setting up libwww-perl (6.31-1ubuntu0.1) ...\n",
            "Setting up libxml-parser-perl (2.44-2build3) ...\n",
            "Setting up libxml-sax-expat-perl (0.40-2) ...\n",
            "update-perl-sax-parsers: Registering Perl SAX parser XML::SAX::Expat with priority 50...\n",
            "update-perl-sax-parsers: Updating overall Perl SAX parser modules info file...\n",
            "Replacing config file /etc/perl/XML/SAX/ParserDetails.ini with new version\n",
            "Processing triggers for fontconfig (2.12.6-0ubuntu2) ...\n",
            "Processing triggers for mime-support (3.60ubuntu1) ...\n",
            "Processing triggers for install-info (6.5.0.dfsg.1-2) ...\n",
            "Processing triggers for libc-bin (2.27-3ubuntu1.5) ...\n",
            "/sbin/ldconfig.real: file /usr/local/lib/libnppif.so is truncated\n",
            "\n",
            "/sbin/ldconfig.real: file /usr/local/lib/libnppidei.so.11 is truncated\n",
            "\n",
            "/sbin/ldconfig.real: file /usr/local/lib/libnppisu.so.11.1.2.301 is truncated\n",
            "\n",
            "/sbin/ldconfig.real: file /usr/local/lib/libnppisu.so.11 is truncated\n",
            "\n",
            "/sbin/ldconfig.real: file /usr/local/lib/libnppicc.so is truncated\n",
            "\n",
            "/sbin/ldconfig.real: file /usr/local/lib/libnvrtc.so is truncated\n",
            "\n",
            "/sbin/ldconfig.real: file /usr/local/lib/libcufft.so.10 is truncated\n",
            "\n",
            "/sbin/ldconfig.real: file /usr/local/lib/libnvjpeg.so.11 is truncated\n",
            "\n",
            "/sbin/ldconfig.real: file /usr/local/lib/libcusolver.so.11.0.1.105 is truncated\n",
            "\n",
            "/sbin/ldconfig.real: file /usr/local/lib/libnppim.so is truncated\n",
            "\n",
            "/sbin/ldconfig.real: file /usr/local/lib/libcusolver.so.11 is truncated\n",
            "\n",
            "/sbin/ldconfig.real: file /usr/local/lib/libnppicc.so.11 is truncated\n",
            "\n",
            "/sbin/ldconfig.real: file /usr/local/lib/libnppist.so is truncated\n",
            "\n",
            "/sbin/ldconfig.real: file /usr/local/lib/libnppial.so is truncated\n",
            "\n",
            "/sbin/ldconfig.real: file /usr/local/lib/libcusolverMg.so.11.0.1.105 is truncated\n",
            "\n",
            "/sbin/ldconfig.real: file /usr/local/lib/libnvToolsExt.so.1.0.0 is truncated\n",
            "\n",
            "/sbin/ldconfig.real: file /usr/local/lib/libcusparse.so.11 is truncated\n",
            "\n",
            "/sbin/ldconfig.real: file /usr/local/lib/libcublas.so.11 is truncated\n",
            "\n",
            "/sbin/ldconfig.real: file /usr/local/lib/libcublas.so is truncated\n",
            "\n",
            "/sbin/ldconfig.real: file /usr/local/lib/libnppc.so.11.1.2.301 is truncated\n",
            "\n",
            "/sbin/ldconfig.real: file /usr/local/lib/libcusparse.so.11.3.0.10 is truncated\n",
            "\n",
            "/sbin/ldconfig.real: file /usr/local/lib/libcublasLt.so is truncated\n",
            "\n",
            "/sbin/ldconfig.real: file /usr/local/lib/libnvblas.so.11.3.0.106 is truncated\n",
            "\n",
            "/sbin/ldconfig.real: file /usr/local/lib/libcusolver.so is truncated\n",
            "\n",
            "/sbin/ldconfig.real: file /usr/local/lib/libnvjpeg.so is truncated\n",
            "\n",
            "/sbin/ldconfig.real: file /usr/local/lib/libnppicc.so.11.1.2.301 is truncated\n",
            "\n",
            "/sbin/ldconfig.real: file /usr/local/lib/libcublasLt.so.11.3.0.106 is truncated\n",
            "\n",
            "/sbin/ldconfig.real: file /usr/local/lib/libcurand.so is truncated\n",
            "\n",
            "/sbin/ldconfig.real: file /usr/local/lib/libnvrtc-builtins.so is truncated\n",
            "\n",
            "/sbin/ldconfig.real: file /usr/local/lib/libnppidei.so is truncated\n",
            "\n",
            "/sbin/ldconfig.real: file /usr/local/lib/libcublasLt.so.11 is truncated\n",
            "\n",
            "/sbin/ldconfig.real: file /usr/local/lib/libcufftw.so.10 is truncated\n",
            "\n",
            "/sbin/ldconfig.real: file /usr/local/lib/libnvrtc-builtins.so.11.1 is truncated\n",
            "\n",
            "/sbin/ldconfig.real: file /usr/local/lib/libnppist.so.11 is truncated\n",
            "\n",
            "/sbin/ldconfig.real: file /usr/local/lib/libcudart.so is truncated\n",
            "\n",
            "/sbin/ldconfig.real: file /usr/local/lib/libcufftw.so.10.3.0.105 is truncated\n",
            "\n",
            "/sbin/ldconfig.real: file /usr/local/lib/libcurand.so.10 is truncated\n",
            "\n",
            "/sbin/ldconfig.real: file /usr/local/lib/libnpps.so.11 is truncated\n",
            "\n",
            "/sbin/ldconfig.real: file /usr/local/lib/libnppif.so.11 is truncated\n",
            "\n",
            "/sbin/ldconfig.real: file /usr/local/lib/libcufftw.so is truncated\n",
            "\n",
            "/sbin/ldconfig.real: file /usr/local/lib/libnppig.so.11 is truncated\n",
            "\n",
            "/sbin/ldconfig.real: file /usr/local/lib/libnppig.so is truncated\n",
            "\n",
            "/sbin/ldconfig.real: file /usr/local/lib/libnppial.so.11.1.2.301 is truncated\n",
            "\n",
            "/sbin/ldconfig.real: file /usr/local/lib/libnppif.so.11.1.2.301 is truncated\n",
            "\n",
            "/sbin/ldconfig.real: file /usr/local/lib/libcufft.so is truncated\n",
            "\n",
            "/sbin/ldconfig.real: file /usr/local/lib/libnppc.so is truncated\n",
            "\n",
            "/sbin/ldconfig.real: file /usr/local/lib/libnppidei.so.11.1.2.301 is truncated\n",
            "\n",
            "/sbin/ldconfig.real: file /usr/local/lib/libcurand.so.10.2.2.105 is truncated\n",
            "\n",
            "/sbin/ldconfig.real: file /usr/local/lib/libcufft.so.10.3.0.105 is truncated\n",
            "\n",
            "/sbin/ldconfig.real: file /usr/local/lib/libcusolverMg.so.11 is truncated\n",
            "\n",
            "/sbin/ldconfig.real: file /usr/local/lib/libnvblas.so is truncated\n",
            "\n",
            "/sbin/ldconfig.real: file /usr/local/lib/libnpps.so.11.1.2.301 is truncated\n",
            "\n",
            "/sbin/ldconfig.real: file /usr/local/lib/libnppitc.so.11.1.2.301 is truncated\n",
            "\n",
            "/sbin/ldconfig.real: file /usr/local/lib/libnvvm.so is truncated\n",
            "\n",
            "/sbin/ldconfig.real: file /usr/local/lib/libnvvm.so.3.3.0 is truncated\n",
            "\n",
            "/sbin/ldconfig.real: file /usr/local/lib/libcupti.so.2020.2.1 is truncated\n",
            "\n",
            "/sbin/ldconfig.real: file /usr/local/lib/libcudart.so.11.0 is truncated\n",
            "\n",
            "/sbin/ldconfig.real: file /usr/local/lib/libnvvm.so.3 is truncated\n",
            "\n",
            "/sbin/ldconfig.real: file /usr/local/lib/libcupti.so.11.1 is truncated\n",
            "\n",
            "/sbin/ldconfig.real: file /usr/local/lib/libnppim.so.11.1.2.301 is truncated\n",
            "\n",
            "/sbin/ldconfig.real: file /usr/local/lib/libcudart.so.11.1.74 is truncated\n",
            "\n",
            "/sbin/ldconfig.real: file /usr/local/lib/libnvjpeg.so.11.3.0.105 is truncated\n",
            "\n",
            "/sbin/ldconfig.real: file /usr/local/lib/libnvToolsExt.so is truncated\n",
            "\n",
            "/sbin/ldconfig.real: file /usr/local/lib/libnppc.so.11 is truncated\n",
            "\n",
            "/sbin/ldconfig.real: file /usr/local/lib/libnppist.so.11.1.2.301 is truncated\n",
            "\n",
            "/sbin/ldconfig.real: file /usr/local/lib/libnvrtc.so.11.1.105 is truncated\n",
            "\n",
            "/sbin/ldconfig.real: file /usr/local/lib/libnvrtc.so.11.1 is truncated\n",
            "\n",
            "/sbin/ldconfig.real: file /usr/local/lib/libnvrtc-builtins.so.11.1.105 is truncated\n",
            "\n",
            "/sbin/ldconfig.real: file /usr/local/lib/libnppig.so.11.1.2.301 is truncated\n",
            "\n",
            "/sbin/ldconfig.real: file /usr/local/lib/libnvblas.so.11 is truncated\n",
            "\n",
            "/sbin/ldconfig.real: file /usr/local/lib/libnvToolsExt.so.1 is truncated\n",
            "\n",
            "/sbin/ldconfig.real: file /usr/local/lib/libcupti.so is truncated\n",
            "\n",
            "/sbin/ldconfig.real: file /usr/local/lib/libnppim.so.11 is truncated\n",
            "\n",
            "/sbin/ldconfig.real: file /usr/local/lib/libnppitc.so is truncated\n",
            "\n",
            "/sbin/ldconfig.real: file /usr/local/lib/libnppitc.so.11 is truncated\n",
            "\n",
            "/sbin/ldconfig.real: file /usr/local/lib/libcusparse.so is truncated\n",
            "\n",
            "/sbin/ldconfig.real: file /usr/local/lib/libnppial.so.11 is truncated\n",
            "\n",
            "/sbin/ldconfig.real: file /usr/local/lib/libnppisu.so is truncated\n",
            "\n",
            "/sbin/ldconfig.real: file /usr/local/lib/libcublas.so.11.3.0.106 is truncated\n",
            "\n",
            "/sbin/ldconfig.real: file /usr/local/lib/libcusolverMg.so is truncated\n",
            "\n",
            "/sbin/ldconfig.real: file /usr/local/lib/libnpps.so is truncated\n",
            "\n",
            "Processing triggers for man-db (2.8.3-2ubuntu0.1) ...\n",
            "Processing triggers for hicolor-icon-theme (0.17-2) ...\n",
            "Reading package lists... Done\n",
            "Building dependency tree       \n",
            "Reading state information... Done\n",
            "The following package was automatically installed and is no longer required:\n",
            "  libnvidia-common-460\n",
            "Use 'apt autoremove' to remove it.\n",
            "The following additional packages will be installed:\n",
            "  libfftw3-bin libfftw3-dev libfftw3-long3 libfftw3-quad3\n",
            "Suggested packages:\n",
            "  libfftw3-doc\n",
            "The following NEW packages will be installed:\n",
            "  libfftw3-bin libfftw3-dev libfftw3-long3 libfftw3-quad3 liboctave-dev\n",
            "0 upgraded, 5 newly installed, 0 to remove and 20 not upgraded.\n",
            "Need to get 3,439 kB of archives.\n",
            "After this operation, 23.2 MB of additional disk space will be used.\n",
            "Get:1 http://archive.ubuntu.com/ubuntu bionic/main amd64 libfftw3-long3 amd64 3.3.7-1 [308 kB]\n",
            "Get:2 http://archive.ubuntu.com/ubuntu bionic/main amd64 libfftw3-quad3 amd64 3.3.7-1 [552 kB]\n",
            "Get:3 http://archive.ubuntu.com/ubuntu bionic/main amd64 libfftw3-bin amd64 3.3.7-1 [32.7 kB]\n",
            "Get:4 http://archive.ubuntu.com/ubuntu bionic/main amd64 libfftw3-dev amd64 3.3.7-1 [2,108 kB]\n",
            "Get:5 http://archive.ubuntu.com/ubuntu bionic/universe amd64 liboctave-dev amd64 4.2.2-1ubuntu1 [438 kB]\n",
            "Fetched 3,439 kB in 3s (1,279 kB/s)\n",
            "Selecting previously unselected package libfftw3-long3:amd64.\n",
            "(Reading database ... 163416 files and directories currently installed.)\n",
            "Preparing to unpack .../libfftw3-long3_3.3.7-1_amd64.deb ...\n",
            "Unpacking libfftw3-long3:amd64 (3.3.7-1) ...\n",
            "Selecting previously unselected package libfftw3-quad3:amd64.\n",
            "Preparing to unpack .../libfftw3-quad3_3.3.7-1_amd64.deb ...\n",
            "Unpacking libfftw3-quad3:amd64 (3.3.7-1) ...\n",
            "Selecting previously unselected package libfftw3-bin.\n",
            "Preparing to unpack .../libfftw3-bin_3.3.7-1_amd64.deb ...\n",
            "Unpacking libfftw3-bin (3.3.7-1) ...\n",
            "Selecting previously unselected package libfftw3-dev:amd64.\n",
            "Preparing to unpack .../libfftw3-dev_3.3.7-1_amd64.deb ...\n",
            "Unpacking libfftw3-dev:amd64 (3.3.7-1) ...\n",
            "Selecting previously unselected package liboctave-dev.\n",
            "Preparing to unpack .../liboctave-dev_4.2.2-1ubuntu1_amd64.deb ...\n",
            "Unpacking liboctave-dev (4.2.2-1ubuntu1) ...\n",
            "Setting up libfftw3-quad3:amd64 (3.3.7-1) ...\n",
            "Setting up libfftw3-long3:amd64 (3.3.7-1) ...\n",
            "Setting up libfftw3-bin (3.3.7-1) ...\n",
            "Setting up libfftw3-dev:amd64 (3.3.7-1) ...\n",
            "Setting up liboctave-dev (4.2.2-1ubuntu1) ...\n",
            "Processing triggers for man-db (2.8.3-2ubuntu0.1) ...\n",
            "Processing triggers for libc-bin (2.27-3ubuntu1.5) ...\n",
            "/sbin/ldconfig.real: file /usr/local/lib/libnppif.so is truncated\n",
            "\n",
            "/sbin/ldconfig.real: file /usr/local/lib/libnppidei.so.11 is truncated\n",
            "\n",
            "/sbin/ldconfig.real: file /usr/local/lib/libnppisu.so.11.1.2.301 is truncated\n",
            "\n",
            "/sbin/ldconfig.real: file /usr/local/lib/libnppisu.so.11 is truncated\n",
            "\n",
            "/sbin/ldconfig.real: file /usr/local/lib/libnppicc.so is truncated\n",
            "\n",
            "/sbin/ldconfig.real: file /usr/local/lib/libnvrtc.so is truncated\n",
            "\n",
            "/sbin/ldconfig.real: file /usr/local/lib/libcufft.so.10 is truncated\n",
            "\n",
            "/sbin/ldconfig.real: file /usr/local/lib/libnvjpeg.so.11 is truncated\n",
            "\n",
            "/sbin/ldconfig.real: file /usr/local/lib/libcusolver.so.11.0.1.105 is truncated\n",
            "\n",
            "/sbin/ldconfig.real: file /usr/local/lib/libnppim.so is truncated\n",
            "\n",
            "/sbin/ldconfig.real: file /usr/local/lib/libcusolver.so.11 is truncated\n",
            "\n",
            "/sbin/ldconfig.real: file /usr/local/lib/libnppicc.so.11 is truncated\n",
            "\n",
            "/sbin/ldconfig.real: file /usr/local/lib/libnppist.so is truncated\n",
            "\n",
            "/sbin/ldconfig.real: file /usr/local/lib/libnppial.so is truncated\n",
            "\n",
            "/sbin/ldconfig.real: file /usr/local/lib/libcusolverMg.so.11.0.1.105 is truncated\n",
            "\n",
            "/sbin/ldconfig.real: file /usr/local/lib/libnvToolsExt.so.1.0.0 is truncated\n",
            "\n",
            "/sbin/ldconfig.real: file /usr/local/lib/libcusparse.so.11 is truncated\n",
            "\n",
            "/sbin/ldconfig.real: file /usr/local/lib/libcublas.so.11 is truncated\n",
            "\n",
            "/sbin/ldconfig.real: file /usr/local/lib/libcublas.so is truncated\n",
            "\n",
            "/sbin/ldconfig.real: file /usr/local/lib/libnppc.so.11.1.2.301 is truncated\n",
            "\n",
            "/sbin/ldconfig.real: file /usr/local/lib/libcusparse.so.11.3.0.10 is truncated\n",
            "\n",
            "/sbin/ldconfig.real: file /usr/local/lib/libcublasLt.so is truncated\n",
            "\n",
            "/sbin/ldconfig.real: file /usr/local/lib/libnvblas.so.11.3.0.106 is truncated\n",
            "\n",
            "/sbin/ldconfig.real: file /usr/local/lib/libcusolver.so is truncated\n",
            "\n",
            "/sbin/ldconfig.real: file /usr/local/lib/libnvjpeg.so is truncated\n",
            "\n",
            "/sbin/ldconfig.real: file /usr/local/lib/libnppicc.so.11.1.2.301 is truncated\n",
            "\n",
            "/sbin/ldconfig.real: file /usr/local/lib/libcublasLt.so.11.3.0.106 is truncated\n",
            "\n",
            "/sbin/ldconfig.real: file /usr/local/lib/libcurand.so is truncated\n",
            "\n",
            "/sbin/ldconfig.real: file /usr/local/lib/libnvrtc-builtins.so is truncated\n",
            "\n",
            "/sbin/ldconfig.real: file /usr/local/lib/libnppidei.so is truncated\n",
            "\n",
            "/sbin/ldconfig.real: file /usr/local/lib/libcublasLt.so.11 is truncated\n",
            "\n",
            "/sbin/ldconfig.real: file /usr/local/lib/libcufftw.so.10 is truncated\n",
            "\n",
            "/sbin/ldconfig.real: file /usr/local/lib/libnvrtc-builtins.so.11.1 is truncated\n",
            "\n",
            "/sbin/ldconfig.real: file /usr/local/lib/libnppist.so.11 is truncated\n",
            "\n",
            "/sbin/ldconfig.real: file /usr/local/lib/libcudart.so is truncated\n",
            "\n",
            "/sbin/ldconfig.real: file /usr/local/lib/libcufftw.so.10.3.0.105 is truncated\n",
            "\n",
            "/sbin/ldconfig.real: file /usr/local/lib/libcurand.so.10 is truncated\n",
            "\n",
            "/sbin/ldconfig.real: file /usr/local/lib/libnpps.so.11 is truncated\n",
            "\n",
            "/sbin/ldconfig.real: file /usr/local/lib/libnppif.so.11 is truncated\n",
            "\n",
            "/sbin/ldconfig.real: file /usr/local/lib/libcufftw.so is truncated\n",
            "\n",
            "/sbin/ldconfig.real: file /usr/local/lib/libnppig.so.11 is truncated\n",
            "\n",
            "/sbin/ldconfig.real: file /usr/local/lib/libnppig.so is truncated\n",
            "\n",
            "/sbin/ldconfig.real: file /usr/local/lib/libnppial.so.11.1.2.301 is truncated\n",
            "\n",
            "/sbin/ldconfig.real: file /usr/local/lib/libnppif.so.11.1.2.301 is truncated\n",
            "\n",
            "/sbin/ldconfig.real: file /usr/local/lib/libcufft.so is truncated\n",
            "\n",
            "/sbin/ldconfig.real: file /usr/local/lib/libnppc.so is truncated\n",
            "\n",
            "/sbin/ldconfig.real: file /usr/local/lib/libnppidei.so.11.1.2.301 is truncated\n",
            "\n",
            "/sbin/ldconfig.real: file /usr/local/lib/libcurand.so.10.2.2.105 is truncated\n",
            "\n",
            "/sbin/ldconfig.real: file /usr/local/lib/libcufft.so.10.3.0.105 is truncated\n",
            "\n",
            "/sbin/ldconfig.real: file /usr/local/lib/libcusolverMg.so.11 is truncated\n",
            "\n",
            "/sbin/ldconfig.real: file /usr/local/lib/libnvblas.so is truncated\n",
            "\n",
            "/sbin/ldconfig.real: file /usr/local/lib/libnpps.so.11.1.2.301 is truncated\n",
            "\n",
            "/sbin/ldconfig.real: file /usr/local/lib/libnppitc.so.11.1.2.301 is truncated\n",
            "\n",
            "/sbin/ldconfig.real: file /usr/local/lib/libnvvm.so is truncated\n",
            "\n",
            "/sbin/ldconfig.real: file /usr/local/lib/libnvvm.so.3.3.0 is truncated\n",
            "\n",
            "/sbin/ldconfig.real: file /usr/local/lib/libcupti.so.2020.2.1 is truncated\n",
            "\n",
            "/sbin/ldconfig.real: file /usr/local/lib/libcudart.so.11.0 is truncated\n",
            "\n",
            "/sbin/ldconfig.real: file /usr/local/lib/libnvvm.so.3 is truncated\n",
            "\n",
            "/sbin/ldconfig.real: file /usr/local/lib/libcupti.so.11.1 is truncated\n",
            "\n",
            "/sbin/ldconfig.real: file /usr/local/lib/libnppim.so.11.1.2.301 is truncated\n",
            "\n",
            "/sbin/ldconfig.real: file /usr/local/lib/libcudart.so.11.1.74 is truncated\n",
            "\n",
            "/sbin/ldconfig.real: file /usr/local/lib/libnvjpeg.so.11.3.0.105 is truncated\n",
            "\n",
            "/sbin/ldconfig.real: file /usr/local/lib/libnvToolsExt.so is truncated\n",
            "\n",
            "/sbin/ldconfig.real: file /usr/local/lib/libnppc.so.11 is truncated\n",
            "\n",
            "/sbin/ldconfig.real: file /usr/local/lib/libnppist.so.11.1.2.301 is truncated\n",
            "\n",
            "/sbin/ldconfig.real: file /usr/local/lib/libnvrtc.so.11.1.105 is truncated\n",
            "\n",
            "/sbin/ldconfig.real: file /usr/local/lib/libnvrtc.so.11.1 is truncated\n",
            "\n",
            "/sbin/ldconfig.real: file /usr/local/lib/libnvrtc-builtins.so.11.1.105 is truncated\n",
            "\n",
            "/sbin/ldconfig.real: file /usr/local/lib/libnppig.so.11.1.2.301 is truncated\n",
            "\n",
            "/sbin/ldconfig.real: file /usr/local/lib/libnvblas.so.11 is truncated\n",
            "\n",
            "/sbin/ldconfig.real: file /usr/local/lib/libnvToolsExt.so.1 is truncated\n",
            "\n",
            "/sbin/ldconfig.real: file /usr/local/lib/libcupti.so is truncated\n",
            "\n",
            "/sbin/ldconfig.real: file /usr/local/lib/libnppim.so.11 is truncated\n",
            "\n",
            "/sbin/ldconfig.real: file /usr/local/lib/libnppitc.so is truncated\n",
            "\n",
            "/sbin/ldconfig.real: file /usr/local/lib/libnppitc.so.11 is truncated\n",
            "\n",
            "/sbin/ldconfig.real: file /usr/local/lib/libcusparse.so is truncated\n",
            "\n",
            "/sbin/ldconfig.real: file /usr/local/lib/libnppial.so.11 is truncated\n",
            "\n",
            "/sbin/ldconfig.real: file /usr/local/lib/libnppisu.so is truncated\n",
            "\n",
            "/sbin/ldconfig.real: file /usr/local/lib/libcublas.so.11.3.0.106 is truncated\n",
            "\n",
            "/sbin/ldconfig.real: file /usr/local/lib/libcusolverMg.so is truncated\n",
            "\n",
            "/sbin/ldconfig.real: file /usr/local/lib/libnpps.so is truncated\n",
            "\n",
            "Reading package lists... Done\n",
            "Building dependency tree       \n",
            "Reading state information... Done\n",
            "The following package was automatically installed and is no longer required:\n",
            "  libnvidia-common-460\n",
            "Use 'apt autoremove' to remove it.\n",
            "The following additional packages will be installed:\n",
            "  ncbi-data\n",
            "The following NEW packages will be installed:\n",
            "  ncbi-blast+ ncbi-data\n",
            "0 upgraded, 2 newly installed, 0 to remove and 20 not upgraded.\n",
            "Need to get 13.1 MB of archives.\n",
            "After this operation, 66.7 MB of additional disk space will be used.\n",
            "Get:1 http://archive.ubuntu.com/ubuntu bionic/universe amd64 ncbi-data all 6.1.20170106-2 [3,645 kB]\n",
            "Get:2 http://archive.ubuntu.com/ubuntu bionic/universe amd64 ncbi-blast+ amd64 2.6.0-1 [9,446 kB]\n",
            "Fetched 13.1 MB in 3s (3,970 kB/s)\n",
            "Selecting previously unselected package ncbi-data.\n",
            "(Reading database ... 164300 files and directories currently installed.)\n",
            "Preparing to unpack .../ncbi-data_6.1.20170106-2_all.deb ...\n",
            "Unpacking ncbi-data (6.1.20170106-2) ...\n",
            "Selecting previously unselected package ncbi-blast+.\n",
            "Preparing to unpack .../ncbi-blast+_2.6.0-1_amd64.deb ...\n",
            "Unpacking ncbi-blast+ (2.6.0-1) ...\n",
            "Setting up ncbi-data (6.1.20170106-2) ...\n",
            "Setting up ncbi-blast+ (2.6.0-1) ...\n",
            "Processing triggers for hicolor-icon-theme (0.17-2) ...\n",
            "Processing triggers for man-db (2.8.3-2ubuntu0.1) ...\n",
            "✨🍰✨ Everything looks OK!\n",
            "Collecting package metadata (current_repodata.json): - \b\b\\ \b\b| \b\b/ \b\b- \b\b\\ \b\b| \b\b/ \b\b- \b\b\\ \b\b| \b\b/ \b\b- \b\b\\ \b\b| \b\b/ \b\b- \b\b\\ \b\b| \b\b/ \b\b- \b\b\\ \b\b| \b\b/ \b\b- \b\b\\ \b\b| \b\b/ \b\b- \b\b\\ \b\b| \b\b/ \b\b- \b\b\\ \b\b| \b\b/ \b\b- \b\b\\ \b\b| \b\b/ \b\b- \b\b\\ \b\b| \b\b/ \b\b- \b\b\\ \b\b| \b\b/ \b\b- \b\b\\ \b\b| \b\b/ \b\b- \b\b\\ \b\b| \b\b/ \b\b- \b\b\\ \b\b| \b\b/ \b\b- \b\b\\ \b\b| \b\b/ \b\b- \b\b\\ \b\b| \b\b/ \b\b- \b\b\\ \b\b| \b\b/ \b\b- \b\b\\ \b\b| \b\b/ \b\b- \b\b\\ \b\b| \b\b/ \b\b- \b\b\\ \b\b| \b\b/ \b\b- \b\b\\ \b\b| \b\b/ \b\b- \b\b\\ \b\b| \b\b/ \b\b- \b\b\\ \b\b| \b\b/ \b\b- \b\b\\ \b\b| \b\b/ \b\b- \b\b\\ \b\b| \b\b/ \b\b- \b\b\\ \b\b| \b\b/ \b\b- \b\b\\ \b\b| \b\b/ \b\b- \b\b\\ \b\b| \b\b/ \b\b- \b\b\\ \b\b| \b\b/ \b\b- \b\b\\ \b\b| \b\b/ \b\b- \b\b\\ \b\b| \b\b/ \b\b- \b\b\\ \b\b| \b\b/ \b\b- \b\b\\ \b\b| \b\b/ \b\b- \b\b\\ \b\b| \b\b/ \b\b- \b\b\\ \b\b| \b\b/ \b\b- \b\b\\ \b\b| \b\b/ \b\b- \b\b\\ \b\b| \b\b/ \b\b- \b\b\\ \b\b| \b\b/ \b\b- \b\b\\ \b\bdone\n",
            "Solving environment: / \b\b- \b\b\\ \b\b| \b\b/ \b\b- \b\b\\ \b\b| \b\b/ \b\b- \b\b\\ \b\b| \b\b/ \b\b- \b\b\\ \b\bdone\n",
            "\n",
            "## Package Plan ##\n",
            "\n",
            "  environment location: /usr/local\n",
            "\n",
            "  added / updated specs:\n",
            "    - hhsuite\n",
            "\n",
            "\n",
            "The following packages will be downloaded:\n",
            "\n",
            "    package                    |            build\n",
            "    ---------------------------|-----------------\n",
            "    hhsuite-3.3.0              |py37pl5262h21043fe_2        26.7 MB  bioconda\n",
            "    perl-5.26.2                |    h36c2ea0_1008        15.4 MB  conda-forge\n",
            "    ------------------------------------------------------------\n",
            "                                           Total:        42.1 MB\n",
            "\n",
            "The following NEW packages will be INSTALLED:\n",
            "\n",
            "  hhsuite            bioconda/linux-64::hhsuite-3.3.0-py37pl5262h21043fe_2\n",
            "  perl               conda-forge/linux-64::perl-5.26.2-h36c2ea0_1008\n",
            "\n",
            "\n",
            "\n",
            "Downloading and Extracting Packages\n",
            "hhsuite-3.3.0        | 26.7 MB   | : 100% 1.0/1 [00:06<00:00,  6.31s/it]               \n",
            "perl-5.26.2          | 15.4 MB   | : 100% 1.0/1 [00:03<00:00,  3.74s/it]               \n",
            "Preparing transaction: / \b\b- \b\bdone\n",
            "Verifying transaction: | \b\b/ \b\b- \b\b\\ \b\b| \b\b/ \b\b- \b\bdone\n",
            "Executing transaction: | \b\b/ \b\b- \b\bdone\n",
            "Retrieving notices: ...working... done\n",
            "Looking in indexes: https://pypi.org/simple, https://us-python.pkg.dev/colab-wheels/public/simple/\n",
            "Collecting Biopython\n",
            "  Downloading biopython-1.79-cp37-cp37m-manylinux_2_5_x86_64.manylinux1_x86_64.whl (2.3 MB)\n",
            "\u001b[K     |████████████████████████████████| 2.3 MB 4.0 MB/s \n",
            "\u001b[?25hRequirement already satisfied: numpy in /usr/local/lib/python3.7/site-packages (from Biopython) (1.20.3)\n",
            "Installing collected packages: Biopython\n",
            "Successfully installed Biopython-1.79\n"
          ]
        }
      ],
      "source": [
        "# pre-requisite\n",
        "!pip install torch\n",
        "!pip install scipy\n",
        "!apt-get install octave\n",
        "!apt-get install liboctave-dev\n",
        "!apt-get install ncbi-blast+\n",
        "!pip install -q condacolab\n",
        "import condacolab\n",
        "condacolab.install()\n",
        "!conda install -c conda-forge -c bioconda hhsuite \n",
        "!pip install Biopython\n"
      ]
    },
    {
      "cell_type": "code",
      "execution_count": 39,
      "metadata": {
        "id": "p0xAcl0Do8m2"
      },
      "outputs": [],
      "source": [
        "from Bio import SeqIO\n",
        "# PRE: target.pdb/.ent file, stored in ProteinPDB/AlphaProtein\n",
        "# OUT: target.seq file, stored inside test_data\n",
        "def pdb2seq(target,IN_PATH = \"/content/drive/MyDrive/Colab Notebooks/alphafold_pytorch/alphafold_pytorch-29bd20b0ca0ccd31d984a7dc53f0302d945a2ddc/ProteinPDB/AlphaProtein\"):\n",
        "  try:\n",
        "    pdb_file = IN_PATH + \"/\" + target+\".ent\"\n",
        "    with open(pdb_file) as handle:\n",
        "      sequence = next(SeqIO.parse(handle, \"pdb-atom\"))\n",
        "  except:\n",
        "    pdb_file = IN_PATH + \"/\" + target+\".pdb\"\n",
        "    with open(pdb_file) as handle:\n",
        "      sequence = next(SeqIO.parse(handle, \"pdb-atom\"))\n",
        "  OUT_PATH = \"/content/drive/MyDrive/Colab Notebooks/alphafold_pytorch/alphafold_pytorch-29bd20b0ca0ccd31d984a7dc53f0302d945a2ddc/test_data\"\n",
        "  with open(OUT_PATH + \"/\" + target+\".seq\", \"w\") as output_handle:\n",
        "      SeqIO.write(sequence, output_handle, \"fasta\")"
      ]
    },
    {
      "cell_type": "code",
      "execution_count": 40,
      "metadata": {
        "id": "4saT6cW5emUk"
      },
      "outputs": [],
      "source": [
        "# We combine all the substance and write down the following function\n",
        "# PRE: target.seq file stored inside test_data\n",
        "# OUT: target.npy file with list of dict of cropped seq and their features, stored inside test_data\n",
        "import glob\n",
        "def generate_feature(target):\n",
        "  # note target is in form T1019s2\n",
        "  %cd /content/drive/MyDrive/Colab Notebooks/alphafold_pytorch/alphafold_pytorch-29bd20b0ca0ccd31d984a7dc53f0302d945a2ddc/test_data\n",
        "  TARGET= target\n",
        "  !mkdir {TARGET}\n",
        "  !cp {TARGET}.seq {TARGET}/{TARGET}.seq\n",
        "  %cd ../\n",
        "  TARGET_DIR=f\"test_data/{TARGET}\"\n",
        "  TARGET_SEQ= f\"{TARGET_DIR}/{TARGET}.seq\" # fasta format\n",
        "  PLMDCA_DIR=\"Feature_generation/plmDCA/plmDCA_asymmetric_v2/\"\n",
        "  # generate domain crops from target seq\n",
        "  !python3 feature.py -s {TARGET_SEQ} -c\n",
        "  %cd ./{TARGET_DIR}\n",
        "  for file in glob.glob(\"*.seq\"):\n",
        "    out = file[:-4]\n",
        "    print(f\"Generate MSA files for {out}.seq\")\n",
        "    !hhblits -i {out}.seq -d ../../Feature_generation/uniclust30_2018_08/uniclust30_2018_08 -oa3m {out}.a3m -ohhm {out}.hhm -n 3 \n",
        "    !perl ../../Feature_generation/hh-suite/scripts/reformat.pl {out}.a3m {out}.fas\n",
        "    !psiblast -subject {out}.seq -in_msa {out}.fas -out_ascii_pssm {out}.pssm;\n",
        "  # make target features data and generate ungap target aln file for plmDCA\n",
        "  %cd /content/drive/MyDrive/Colab Notebooks/alphafold_pytorch/alphafold_pytorch-29bd20b0ca0ccd31d984a7dc53f0302d945a2ddc\n",
        "  !python3 feature.py -s {TARGET_SEQ} -f\n",
        "  # Calculating plmDCA\n",
        "  %cd ./{TARGET_DIR}\n",
        "  for aln in glob.glob(\"*.aln\"):\n",
        "    out = file[:-4]\n",
        "    print(f\"calculate plmDCA for {aln}\")\n",
        "    !octave \"/content/drive/MyDrive/Colab Notebooks/alphafold_pytorch/alphafold_pytorch-29bd20b0ca0ccd31d984a7dc53f0302d945a2ddc/Feature_generation/plmDCA/plmDCA_asymmetric_v2/plmDCA_asymmetric.m\" {aln}\n",
        "  %cd ../../\n",
        "  # run again to update target features data\n",
        "  !python3 feature.py -s {TARGET_SEQ} -f\n",
        "  %cd {TARGET_DIR}\n",
        "  !cp {TARGET}.npy ../{TARGET}.npy"
      ]
    },
    {
      "cell_type": "code",
      "execution_count": 41,
      "metadata": {
        "id": "mNxqG8AUiu2f"
      },
      "outputs": [],
      "source": [
        "#generate_feature(\"T1019s2\")"
      ]
    },
    {
      "cell_type": "code",
      "execution_count": 42,
      "metadata": {
        "colab": {
          "base_uri": "https://localhost:8080/"
        },
        "id": "JWh-LGN6Swkc",
        "outputId": "5f62e274-b2b6-4974-e0fa-60c7fc116b8e"
      },
      "outputs": [
        {
          "output_type": "stream",
          "name": "stdout",
          "text": [
            "/content/drive/MyDrive/Colab Notebooks/alphafold_pytorch/alphafold_pytorch-29bd20b0ca0ccd31d984a7dc53f0302d945a2ddc\n"
          ]
        }
      ],
      "source": [
        "%cd /content/drive/MyDrive/Colab Notebooks/alphafold_pytorch/alphafold_pytorch-29bd20b0ca0ccd31d984a7dc53f0302d945a2ddc"
      ]
    },
    {
      "cell_type": "code",
      "execution_count": 43,
      "metadata": {
        "colab": {
          "base_uri": "https://localhost:8080/"
        },
        "id": "IRZyEgj2ds4p",
        "outputId": "e6987724-d69a-49c8-cca7-758cdda6fbb2"
      },
      "outputs": [
        {
          "output_type": "stream",
          "name": "stdout",
          "text": [
            "dict_keys(['chain_name', 'domain_name', 'sequence', 'seq_length', 'residue_index', 'aatype', 'hhblits_profile', 'reweighted_profile', 'hmm_profile', 'num_alignments', 'deletion_probability', 'gap_matrix', 'non_gapped_profile', 'pseudo_frob', 'pseudo_bias', 'pseudolikelihood', 'num_effective_alignments', 'mutual_information', 'resolution', 'sec_structure', 'sec_structure_mask', 'solv_surf', 'solv_surf_mask', 'alpha_positions', 'alpha_mask', 'beta_positions', 'beta_mask', 'superfamily', 'between_segment_residues', 'phi_angles', 'phi_mask', 'psi_angles', 'psi_mask', 'profile', 'profile_with_prior', 'profile_with_prior_without_gaps'])\n"
          ]
        }
      ],
      "source": [
        "\n",
        "# test for IO error\n",
        "import numpy as np\n",
        "#np = np.load(\"test_data/T1019s2.npy\",allow_pickle = True)\n",
        "np = np.load(\"./test_data/T1019s2.npy\",allow_pickle = True)\n",
        "print(np[0].keys())"
      ]
    },
    {
      "cell_type": "code",
      "execution_count": null,
      "metadata": {
        "colab": {
          "base_uri": "https://localhost:8080/"
        },
        "id": "ALDdBEY_qhY6",
        "outputId": "4a678de4-feed-4ea1-b53e-e17627d47536"
      },
      "outputs": [
        {
          "output_type": "stream",
          "name": "stdout",
          "text": [
            "/content/drive/MyDrive/Colab Notebooks/alphafold_pytorch/alphafold_pytorch-29bd20b0ca0ccd31d984a7dc53f0302d945a2ddc/ProteinPDB/AlphaProtein\n"
          ]
        },
        {
          "output_type": "stream",
          "name": "stderr",
          "text": [
            "/usr/local/lib/python3.7/site-packages/Bio/PDB/StructureBuilder.py:92: PDBConstructionWarning: WARNING: Chain B is discontinuous at line 8687.\n",
            "  PDBConstructionWarning,\n",
            "/usr/local/lib/python3.7/site-packages/Bio/PDB/StructureBuilder.py:92: PDBConstructionWarning: WARNING: Chain C is discontinuous at line 8696.\n",
            "  PDBConstructionWarning,\n",
            "/usr/local/lib/python3.7/site-packages/Bio/PDB/StructureBuilder.py:92: PDBConstructionWarning: WARNING: Chain A is discontinuous at line 8749.\n",
            "  PDBConstructionWarning,\n",
            "/usr/local/lib/python3.7/site-packages/Bio/PDB/StructureBuilder.py:92: PDBConstructionWarning: WARNING: Chain B is discontinuous at line 8773.\n",
            "  PDBConstructionWarning,\n",
            "/usr/local/lib/python3.7/site-packages/Bio/PDB/StructureBuilder.py:92: PDBConstructionWarning: WARNING: Chain C is discontinuous at line 8792.\n",
            "  PDBConstructionWarning,\n",
            "/usr/local/lib/python3.7/site-packages/Bio/PDB/StructureBuilder.py:92: PDBConstructionWarning: WARNING: Chain D is discontinuous at line 8820.\n",
            "  PDBConstructionWarning,\n"
          ]
        },
        {
          "output_type": "stream",
          "name": "stdout",
          "text": [
            "/content/drive/MyDrive/Colab Notebooks/alphafold_pytorch/alphafold_pytorch-29bd20b0ca0ccd31d984a7dc53f0302d945a2ddc/test_data\n",
            "mkdir: cannot create directory ‘pdb6smy’: File exists\n",
            "/content/drive/MyDrive/Colab Notebooks/alphafold_pytorch/alphafold_pytorch-29bd20b0ca0ccd31d984a7dc53f0302d945a2ddc\n",
            "/content/drive/MyDrive/Colab Notebooks/alphafold_pytorch/alphafold_pytorch-29bd20b0ca0ccd31d984a7dc53f0302d945a2ddc/test_data/pdb6smy\n",
            "Generate MSA files for pdb6smy.seq\n",
            "- 15:11:13.479 INFO: Search results will be written to pdb6smy.hhr\n",
            "\n",
            "- 15:11:39.171 INFO: Searching 15161831 column state sequences.\n",
            "\n",
            "- 15:11:39.279 INFO: pdb6smy.seq is in A2M, A3M or FASTA format\n",
            "\n",
            "- 15:11:39.281 INFO: Iteration 1\n",
            "\n",
            "- 15:11:39.574 INFO: Prefiltering database\n",
            "\n",
            "- 15:13:37.212 INFO: HMMs passed 1st prefilter (gapless profile-profile alignment)  : 296618\n",
            "\n",
            "- 15:13:41.023 INFO: HMMs passed 2nd prefilter (gapped profile-profile alignment)   : 3653\n",
            "\n",
            "- 15:13:41.023 INFO: HMMs passed 2nd prefilter and not found in previous iterations : 3653\n",
            "\n",
            "- 15:13:41.023 INFO: Scoring 3653 HMMs using HMM-HMM Viterbi alignment\n",
            "\n",
            "- 15:13:41.040 INFO: Alternative alignment: 0\n",
            "\n"
          ]
        }
      ],
      "source": [
        "%cd ProteinPDB/AlphaProtein/\n",
        "for i, item in enumerate(glob.glob(\"*.ent\")):\n",
        "  if i > 2:\n",
        "    continue\n",
        "  pdb_target = item[:-4]\n",
        "  outfile = item\n",
        "  outfile = pdbfile\n",
        "  !pdbfixer {pdbfile} --add-residues --output={outfile} \n",
        "  pdb2seq(pdb_target)\n",
        "  generate_feature(pdb_target)\n"
      ]
    },
    {
      "cell_type": "code",
      "execution_count": null,
      "metadata": {
        "id": "btGDfujFQiV8"
      },
      "outputs": [],
      "source": [
        ""
      ]
    }
  ],
  "metadata": {
    "colab": {
      "background_execution": "on",
      "collapsed_sections": [],
      "machine_shape": "hm",
      "name": "Generate_feature.ipynb",
      "provenance": [],
      "include_colab_link": true
    },
    "gpuClass": "standard",
    "kernelspec": {
      "display_name": "Python 3",
      "name": "python3"
    },
    "language_info": {
      "name": "python"
    }
  },
  "nbformat": 4,
  "nbformat_minor": 0
}